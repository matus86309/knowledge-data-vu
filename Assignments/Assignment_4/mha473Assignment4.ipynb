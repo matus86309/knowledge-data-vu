{
 "cells": [
  {
   "cell_type": "markdown",
   "metadata": {},
   "source": [
    "# Knowledge and Data: Practical Assignment 4 \n",
    "## Modelling in OWL "
   ]
  },
  {
   "cell_type": "markdown",
   "metadata": {},
   "source": [
    "- YOUR NAME: Matúš Hába\n",
    "\n",
    "- YOUR VUNetID: mha473\n",
    "\n",
    "*(If you do not provide your NAME and VUNetID we will not accept your submission.)*"
   ]
  },
  {
   "cell_type": "markdown",
   "metadata": {},
   "source": [
    "For this assignment you will be engineering and reasoning over your very own OWL ontology.\n",
    "\n",
    "You are free to choose the domain (subject) of the ontology you are going to build (e.g. on nutritional value, recipes, supermarkets, food safety, health, restaurants, planes, trains and automobiles, developing countries, modern slavery, political parties, refugees, you name it...). Just be creative and choose a domain we have not seen in class yet. \n",
    "\n",
    "We expect extensive answers for this assignment: give a full account of what you did, such that a peer would be able to reproduce your ontology. This means that you must explicitly state the new axioms and that we expect you to motivate your choices (usually 1-3 lines).\n",
    "\n",
    "Note that all notebooks will automatically be checked for plagiarism: while similar answers can be expected, it is not allowed to directly copy the solutions from fellow students or TAs, or from the examples discussed during the lectures. Similarly, sharing your solutions with your peers is not allowed.\n",
    "\n",
    "NB: the use of Python is not allowed for this assignment: if you add a new cell, make sure it is of the type *markdown* (see the pull-down menu at the top).\n",
    "\n",
    "**IMPORTANT: You will have to hand in your ontology (as ttl) together with the notebook**"
   ]
  },
  {
   "cell_type": "markdown",
   "metadata": {},
   "source": [
    "### Learning objectives"
   ]
  },
  {
   "cell_type": "markdown",
   "metadata": {},
   "source": [
    "At the end of this exercise you should be able to build and ontology and to reason over it: \n",
    "1. You will be able to engineer an OWL ontology\n",
    "2. You will be able to conceptualize a (small) domain\n",
    "3. You will be able use conditions and property characteristics\n",
    "4. You will be able to use a reasoner to infer implicit knowledge\n",
    "5. You will be able to work in Protégé\n"
   ]
  },
  {
   "cell_type": "markdown",
   "metadata": {},
   "source": [
    "### Preliminaries\n",
    "\n",
    "There are several tools which can be used to create and edit RDF and OWL files (in addition to your favourite text-based editor). For this assignment we urge you to use the open-source tool [Protégé](https://protege.stanford.edu), which is a stand-alone editor that is very much tailored towards OWL ontology editing.\n",
    "\n",
    "To install Protégé on your system, please take a look at the [installation instructions](https://protegeproject.github.io/protege/installation/).\n",
    " \n",
    "Protégé is a complex tool with many options, only few of which we will need for this assignment. There are various resources available to get you started:\n",
    "\n",
    "- Watch a short [Protégé Screencast Tutorial](https://vimeo.com/183829740) (created by Rinke Hoekstra)\n",
    "- Check out the [Practical Guide To Building OWL Ontologies Using Protégé 5](https://www.researchgate.net/publication/351037551_A_Practical_Guide_to_Building_OWL_Ontologies_Using_Protege_55_and_Plugins) that uses the [Pizza ontology](https://protege.stanford.edu/ontologies/pizza/pizza.owl) to describe how to create ontologies using Protégé.\n",
    "- Check the [Assignment 4 document](https://docs.google.com/document/d/1Dw2winjfr2TJq3r1q6ZRpud9Qn--tq4ioWDqiBdrrzI) containing Tips & Recommendations on how to create ontologies."
   ]
  },
  {
   "cell_type": "markdown",
   "metadata": {},
   "source": [
    "### Task 1 (10 Points) : Creating an empty ontology\n",
    "\n",
    "Create a new empty ontology in Protégé.\n",
    "\n",
    "Be sure to:\n",
    "- Choose your own unique namespace and prefix  (these do not have to exist)\n",
    "- Add metadata in the form of *rdfs:label*, *dc:creator* (http://purl.org/dc/elements/1.1/creator), and *dc:description* (http://purl.org/dc/elements/1.1/description) annotations.  \n",
    "  Use *dc:description* to describe the domain and target audience of your ontology.\n",
    "\n",
    "Write down the namespace, its prefix, and the metadata that you have added in the textfield below:"
   ]
  },
  {
   "cell_type": "markdown",
   "metadata": {},
   "source": [
    "Namespace: http://example/wine  \n",
    "Prefix: wine\n",
    "\n",
    "Metadata:  \n",
    "Creator: Matúš Hába  \n",
    "Description: This ontology has been created for wine enthusiast or analysts, that would like to capture their knowledge about the wine production. It should only serve as a framework, with some very basic examples to make it easier for anyone to start with building such a knowledge base. "
   ]
  },
  {
   "cell_type": "markdown",
   "metadata": {},
   "source": [
    "### Task 2a (10 Points) : Populating your ontology\n",
    "\n",
    "Populate your ontology such that it contains at least\n",
    "- six classes\n",
    "- four data properties\n",
    "- four object properties\n",
    "\n",
    "For **each** class, create **two** example instances:\n",
    "- assert one instance as a member of this class (i.e. using *rdf:type*).\n",
    "- leave the second instance without any type.\n",
    "\n",
    "Your ontology should now have at least 12 instances: six instances with a certain *rdf:type*, and six instances without any *rdf:type*.\n",
    "\n",
    "List and describe the classes and properties that you created in the textfield below, together with their instances. Don't forget to motivate your choices."
   ]
  },
  {
   "cell_type": "markdown",
   "metadata": {},
   "source": [
    "Class Name: Wine  \n",
    "Description: An alcoholic drink made from fermented grapes.   \n",
    "Instances:  \n",
    "- CoteauxChampenoisRouge, VinSantoDelChianti  \n",
    "\n",
    "Motivation: This class contains the very center of this knowledgebase, the instances the porperties of which will be captured.  \n",
    "\n",
    "Class Name: WhiteWine  \n",
    "Description: An alcoholic drink made from fermented grapes.   \n",
    "Instances:  \n",
    "- VinSantoDelChianti, SauvignonBlanc\n",
    "\n",
    "Motivation: This is a subclass of the Wine class, based on wine's most distinguishing feature\n",
    "\n",
    "Class Name: RedWine  \n",
    "Description: An alcoholic drink made from fermented grapes.   \n",
    "Instances:  \n",
    "- CoteauxChampenoisRouge, OrnellaiaBolgheriSuperioreToscana\n",
    "\n",
    "Motivation: This is a subclass of the Wine class, based on wine's most distinguishing feature\n",
    "\n",
    "Class Name: Wine Descriptor\n",
    "Description: Suuperclass of different ways to descrigbe wine properties\n",
    "Instances: All instances of classes WineColor, Harvest, Producer, ResidualSugarLevel, Region\n",
    "Motivation: Used to distinguish wines from wine descriptors for improved reasoning.\n",
    "\n",
    "Class Name: WineColor  \n",
    "Description: The color of the alcoholic beverage.  \n",
    "Instances:  \n",
    "- Red, White  \n",
    "\n",
    "Motivation: One of the most distinct features of wine is it's color, and it deserves to be stated.  \n",
    "\n",
    "Class Name: Harvest  \n",
    "Description: Grapes can be harvested under different conditions, which affect the quality and taste.   \n",
    "Instances:   \n",
    "- StandardHarvest, LateHarvest  \n",
    "\n",
    "Motivation: The manner in which the grapes are harvested, early or late, by hand or using a machine affects greatly the resulting product.  \n",
    "\n",
    "Class Name: Producer  \n",
    "Description: The organization responsible for cultivating the grapevines, managing the vineyard, and overseeing grape production for winemaking.   \n",
    "Instances:  \n",
    "- ThibaudBrocard, Montefioralle   \n",
    "\n",
    "Motivation: Just like with many products, a producer can often be used as a rule of thumb when it comes to judging quality without much research, a strong brand usually signifies high quality simplifying  decision making.\n",
    "\n",
    "Class Name: ResidualSugarLevel  \n",
    "Description: A way to describe the amount of natural grape sugar left in the wine after fermentation.  \n",
    "Instances:  \n",
    "- Dry, Sweet   \n",
    "\n",
    "Motivation: Residual sugar is one of the best descriptors when it comes to taste.  \n",
    "\n",
    "Class Name: Region  \n",
    "Description: The name of the region where the grapes were grown and harvested.  \n",
    "Instances:  \n",
    "- Champagne, Tuscany  \n",
    " \n",
    "Motivation: Similarly to a producer, wine grown in certain regions is regarded higher than others."
   ]
  },
  {
   "cell_type": "markdown",
   "metadata": {},
   "source": [
    "Property Name: alcoholContent  \n",
    "Description: Specifies the alcohol content as a percentage of total volume.  \n",
    "Domain: Wine  \n",
    "Range: xsd:decimal  \n",
    "Motivation: Indication of alcohol percentage is a legal requirement.\n",
    "\n",
    "Property Name: sparkling  \n",
    "Description: Wine with significant levels of carbon dioxide in it, making it fizzy.  \n",
    "Domain: Wine  \n",
    "Range: xsd:boolean \n",
    "Motivation: Whether a wine is sparkling or not greatly affects the occasions it is best suited for.\n",
    "\n",
    "Property Name: vintage  \n",
    "Description year: The year the grapes were harvested.  \n",
    "Domain: Wine  \n",
    "Range: xsd:positiveInteger  \n",
    "Motivation: The year when the wine was produced speaks loudly to wine enthusiast, it can be used to judge it's quality based on the amount of sunny days and rainfall. \n",
    "\n",
    "Property Name: pricePerBottle  \n",
    "Description: The price of one bottle of this wine (0.7L) in EUR. \n",
    "Domain: Wine  \n",
    "Range: xsd:decimal    \n",
    "Motivation: Price is often a deciding factor when it comes to purchasing."
   ]
  },
  {
   "cell_type": "markdown",
   "metadata": {},
   "source": [
    "Property Name: harvestMethod  \n",
    "Description: Specifies the method used for harvesting  \n",
    "Domain: Wine  \n",
    "Range: Harvest  \n",
    "Motivation: Property used to describe a wine's harvest methods.  \n",
    "\n",
    "Property Name: producedBy  \n",
    "Description: Specifies the method used for harvesting   \n",
    "Domain: Wine  \n",
    "Range: Producer  \n",
    "Motivation: Property used to describe a wine's producer.  \n",
    "\n",
    "Property: producedIn  \n",
    "Description: Specifies the region where the grapes for the wine originated.  \n",
    "Domain: Wine  \n",
    "Range: Region  \n",
    "Motivation: Property used to describe a wine's region of origin.  \n",
    "\n",
    "Property Name: residualSugar  \n",
    "Description: Categorizes the wine in terms of residual sugar after fermentation.  \n",
    "Domain: Wine  \n",
    "Range: ResidualSugarLevel  \n",
    "Motivation: Property used to describe a wine's residual sugar level.  \n",
    "\n",
    "Property: hasColor  \n",
    "Description: Specifies the region where the grapes for the wine originated.  \n",
    "Domain: Wine  \n",
    "Range: WineColor  \n",
    "Motivation: Property used to describe a wine's color.\n",
    "\n",
    "Property: produces  \n",
    "Description: Specifies which kind of wine a producer produces.  \n",
    "Domain: Producer  \n",
    "Range: Wine  \n",
    "Motivation: It is important to keep track of the wines a producer produces.  \n",
    "\n",
    "Property: tastesLike  \n",
    "Description: Declares a similarity in taste between 2 wines.  \n",
    "Domain: Wine  \n",
    "Range: Wine  \n",
    "Motivation: This porperty can be used to group wines by similar taste and to offer similar products in different price ranges, from different origins etc."
   ]
  },
  {
   "cell_type": "markdown",
   "metadata": {},
   "source": [
    "### Task 2b (10 Points) : Asserting properties\n",
    " \n",
    "For *each* instance:\n",
    "- assert at least one datatype property (e.g. ex:instanceA *ex:hasFullName* \"Some Full Name\"). \n",
    "- assert at least one object property, relating instances to each other (e.g.  ex:instanceA *ex:attendsCourse* ex:instanceB) \n",
    "\n",
    "List and describe 4 statements from your ontology, containing 4 different object property assertions:"
   ]
  },
  {
   "cell_type": "markdown",
   "metadata": {},
   "source": [
    "wine:VinsantoDelChianti wine:producedIn wine:Tuscany  \n",
    "wine:VinsantoDelChianti wine:hasColor wine:WhiteWine  \n",
    "wine:CoteauxChampenoisRouge wine:residualSugar wine:Dry  \n",
    "wine:CoteauxChampenoisRouge wine:harvestMethod wine: StandardHarvest"
   ]
  },
  {
   "cell_type": "markdown",
   "metadata": {},
   "source": [
    "List and describe 4 statements from your ontology, containing 4 different data property assertions:"
   ]
  },
  {
   "cell_type": "markdown",
   "metadata": {},
   "source": [
    "wine:VinsantoDelChianti wine:pricePerBottle 56.00   \n",
    "wine:VinsantoDelChianti wine:alcoholContent 14.5  \n",
    "wine:CoteauxChampenoisRouge wine:sparkling false  \n",
    "wine:CoteauxChampenoisRouge wine:harvestYear \"2021\"^^xsd:positive integer"
   ]
  },
  {
   "cell_type": "markdown",
   "metadata": {},
   "source": [
    "---\n",
    "### The reasoner\n",
    "\n",
    "The questions following this point make use of Protégé reasoning capabilities, which are available via plugins but which are disabled by default. Install (if necessary) and start the *Pellet* reasoner before you continue with the next question.\n",
    "\n",
    "Refer to page 15 of the [Protégé guide](https://www.researchgate.net/publication/351037551_A_Practical_Guide_to_Building_OWL_Ontologies_Using_Protege_55_and_Plugins) for instructions on how to install and run the reasoner. A version of this guide is also available on the GitHub page of the course.\n",
    "\n",
    "---"
   ]
  },
  {
   "cell_type": "markdown",
   "metadata": {},
   "source": [
    "### Task 3 (10 Points): Reasoning on a basic ontology\n",
    "\n",
    "All assertions that were addded up til now were explicit. Yet, it is certainly possible that your ontology also contains one or more *implicit* assertions, that have emerged from the interactions between the added explicit assertions. \n",
    "\n",
    "Run the reasoner on your yet-basic ontology and write down the inferences occurred (if any) below:"
   ]
  },
  {
   "cell_type": "markdown",
   "metadata": {},
   "source": [
    "\n",
    "wine:Tuscany rdf:type wine:Region .\n",
    "\n",
    "wine:LateHarvest rdf:type wine:Harvest .\n",
    "\n",
    "wine:sweet rdf:type wine:ResidualSugarLevel .  \n",
    "\n",
    "wine:White rdf:type wine:WineColor .  \n",
    "\n",
    "wine:Montefioralle rdf:type wine:Producer\n",
    "\n",
    "wine:OrnellaiaBolgheriSuperioreToscana rdf:type wine:Wine .  \n",
    "                \n",
    "wine:VinSantoDelChianti rdf:type wine:Wine .\n",
    "\n",
    "wine:Montefioralle rdf:type owl:NamedIndividual ."
   ]
  },
  {
   "cell_type": "markdown",
   "metadata": {},
   "source": [
    "Write down the different steps of the reasoning process (ie, what happened when you ran the reasoner. Think in terms of _set theory_, _axioms_, and _inferencing_, amongst others)."
   ]
  },
  {
   "cell_type": "markdown",
   "metadata": {},
   "source": [
    "The process starts by loading the explicitly declared ontology and reading all it includes. The reasoner processes the class hierarchy using set inclusion and checks for inconsistencies in the ontology. The reasoner may infer new subclass relations based on existing axioms. The reasoner also checks consistency of domain and range restrictions of properties as defined in the ontology, and if not explicitly stated, may infer class membership based on these axioms. Once these actions are complete, the ontology is enriched by these newly-inferred triples."
   ]
  },
  {
   "cell_type": "markdown",
   "metadata": {},
   "source": [
    "### Task 4a (10 Points): Necessary and sufficient conditions \n",
    "\n",
    "Select two classes from your ontology.  \n",
    "For **both** classes:\n",
    "- add at least one *necessary* **and** one *necessary and sufficient* condition\n",
    "  (e.g. engineers are people who hold an engineering degree, and any person holding an engineering degree is an engineer)\n",
    "- infer class membership of *at least* one instance using each condition \n",
    "  \n",
    "List and describe the four (or more) conditions that you have added (i.e. axioms) in the textfield below. Do not forget to motivate your choices."
   ]
  },
  {
   "cell_type": "markdown",
   "metadata": {},
   "source": [
    "WhiteWine subClass of Wine  \n",
    "RedWine subClass of Wine  \n",
    "WhiteWine equivalentTo Wine and (hasColor value White)  \n",
    "RedWine equivalentTo Wine and (hasColor value Red)  \n",
    "\n",
    "Motivation:\n",
    "I chose these properties because the relationship between a wine being Red or White is the same as wine having the color red or white. In this case this relatioship wouldn't otherwise be captured by the knowledgebase. I also defined WhiteWine and RedWine as subclasses of Wine, as they are terms used to distinguish types of wine"
   ]
  },
  {
   "cell_type": "markdown",
   "metadata": {},
   "source": [
    "### Task 4b (10 Points): Reasoning over conditions\n",
    "\n",
    "Run the reasoner once again (after having added the conditions).\n",
    "\n",
    "Write down and explain the resulting inferences below."
   ]
  },
  {
   "cell_type": "markdown",
   "metadata": {},
   "source": [
    "# Triple group 1\n",
    "wine:RedWine rdf:type owl:Class ;  \n",
    "             rdfs:subClassOf wine:Wine .  \n",
    "\n",
    "wine:WhiteWine rdf:type owl:Class ;  \n",
    "               rdfs:subClassOf wine:Wine .  \n",
    "\n",
    "# Triple group 2\n",
    "wine:VinsantoDelChianti rdf:type WhiteWine.  \n",
    "\n",
    "wine:CoteauxChampenoisRouge rdf:type: WhiteWine.  \n",
    "\n",
    "# Triple group 3\n",
    "wine:OrnellaiaBolgheriSuperioreToscana rdf:type Wine.  \n",
    "\n",
    "wine:SauvignonBlanc rdf:type Wine.\n",
    "\n",
    "\n",
    "# Explanation\n",
    "\n",
    "The triple group one was inferred based on the rules:  \n",
    "    WhiteWine equivalentTo Wine and (hasColor value White)   \n",
    "    RedWine equivalentTo Wine and (hasColor value Red),  \n",
    "Which state, that anything that is a WhiteWine (RedWine), must also be a wine, and have the appropriate color.  \n",
    "Although these triples were explicitly stated, they could still be infered.  \n",
    "\n",
    "The triple group 2 was infered based on the same rules:  \n",
    "    WhiteWine equivalentTo Wine and (hasColor value White)   \n",
    "    RedWine equivalentTo Wine and (hasColor value Red),  \n",
    "Because they were both instances of class Wine and had the appropriate colors.\n",
    "\n",
    "The triple group 3 was inferred based on the rules:   \n",
    "    WhiteWine subClass of Wine   \n",
    "    RedWine subClass of Wine   \n",
    "Which linked the wines belonging to subclasses RedWine and WhiteWine to the superclass Wine.\n",
    "These triples were however already inferred before from the domain restrictions of properties.\n"
   ]
  },
  {
   "cell_type": "markdown",
   "metadata": {},
   "source": [
    "### Task 5a (10 Points): Property characteristics\n",
    "\n",
    "Add at least **four** different OWL property characteristics.\n",
    "\n",
    "Examples are\n",
    "- transitivity\n",
    "- symmetricity\n",
    "- functionality\n",
    "- (ir)reflexivity\n",
    "- property chain\n",
    "- disjoint properties\n",
    "- etc\n",
    "\n",
    "All four different characteristics can be asserted on one property (or on four different properties).\n",
    "\n",
    "List and describe the four (or more) property characteristics you defined (i.e. axioms) in the textfield below. Do not forget to motivate your choices."
   ]
  },
  {
   "cell_type": "markdown",
   "metadata": {},
   "source": [
    "# produces inversionOf producedBy  \n",
    "these 2 properties are inversions of one another, since when a producer produces wine, then the wine is produced by that producer.  \n",
    "\n",
    "Motivation: These 2 properties are going to be widely used, and since they are very similar it is important to know their relationship, so that as many errors as possible get caught by the reasoner.   \n",
    "\n",
    "# tastesLike transitive\n",
    "if a tastes like b and b tastes like c, than we can conclude, that c tastes like a\n",
    "\n",
    "# tastesLike symmetric  \n",
    "simmilarity is a 2-way street, therefore if one thing is similar to another, than the other thing is similar to the one discussed.  \n",
    "\n",
    "Motivation: When using this property, we can save a lot of time declaring these 2 property characteristics, so that we save time and effort by having the reasoner infer the symetric and transitive relationships instead of doing it ourselves. It also helps avoiding errors that could arise from entering all of these properties manually.\n",
    "\n",
    "# hasColor irreflexive\n",
    "this porperty cannot be used to relate an individual to itself\n",
    "\n",
    "Motivation: We want to avoid errors by explicitly stating, that this property cannot be used to relate an object to itself"
   ]
  },
  {
   "cell_type": "markdown",
   "metadata": {},
   "source": [
    "### Task 5b (10 Points): Reasoning over properties\n",
    "\n",
    "Run the reasoner once again (after having added the properties).\n",
    "\n",
    "Write down and explain the resulting inferences below."
   ]
  },
  {
   "cell_type": "markdown",
   "metadata": {},
   "source": [
    "wine:tastesLike owl:inverseOf wine tastesLike  \n",
    "\n",
    "Explanation: this inference was made based on the symmetric property  \n",
    "\n",
    "wine:CoteauxCampenoisRouge wine:tastesLike wine:OrnellaiaBolgheriSuperioreToscana  \n",
    "wine:OrnellaiaBolgheriSuperioreToscana wine:tastesLike wine:OrnellaiaBolgheriSuperioreToscana  \n",
    "wine:CoteauxCampenoisRouge wine:tastesLike wine:CoteauxCampenoisRouge  \n",
    "\n",
    "Explanation: These inferences have been based on the tastesLike characteristics symmetric and transitive, and the assertion wine:OrnellaiaBolgheriSuperioreToscana wine:tastesLike wine:CoteauxCampenoisRouge  \n",
    "\n",
    "wine:VinSantoDelChianti wine:producedBy wine:Montefioralle  \n",
    "\n",
    "Explanation: This inference is a consequence of the wine:producedBy being and inverse of wine:produces, and the explicit axiom wine:Montefioralle wine:produces wine:VinsantodelChianti.  \n",
    "\n",
    "wine:ThibaudBrocard wine:produces wine:CoteauxCampenoisRouge  \n",
    "\n",
    "Explanation: This inference is a consequence of the wine:producedBy being and inverse of wine:produces, and the explicit axiom wine:CoteauxChampenoisRouge wine:producedBy wine:ThibaudBrocard. \n"
   ]
  },
  {
   "cell_type": "markdown",
   "metadata": {},
   "source": [
    "### Task 6 (10 Points): Saving your ontology\n",
    "\n",
    "Go over your ontology to ensure that it is consistent and that it meets all requirements as asked through the various questions. Note that you can use the reasoner to check your ontology for consistency.\n",
    "\n",
    "Next, export/save your ontology to a file using Turtle as serialization format. Use *save as* to ensure that later modifications won't end up in this file. \n",
    "\n",
    "**Submit this file together with your notebook**"
   ]
  },
  {
   "cell_type": "markdown",
   "metadata": {},
   "source": [
    "### Task 7 (10 Points): An inconsist ontology\n",
    "\n",
    "Add a new axiom to your ontology in such a way that it becomes inconsistent. \n",
    "\n",
    "**IMPORTANT: do not submit this version**\n",
    "\n",
    "List and describe the axiom that you added. Motivate your choice and explain why the ontology became inconsistent."
   ]
  },
  {
   "cell_type": "markdown",
   "metadata": {},
   "source": [
    "In the ontology, the classes wine:Wine and wine:WineDescriptor are defined as disjoint classes. I have added a new assertion, saying that wine:VinSantoDelChianti is of type wine:WineDescriptor. This has caused the inconsistency, since the reasoner tried to infer that wine:VinSantoDelChianti is of type:Wine from a domain restriction of multiple properties. \n",
    "\n",
    "Motivation: I chose to add this inconsistency to show, that in case a wine is incorrectly labeled as a wine descriptor, or vice versa, such an error will be quickly caught by the reasoner."
   ]
  },
  {
   "cell_type": "markdown",
   "metadata": {},
   "source": [
    "---\n",
    "\n",
    "## Submitting your answers\n",
    "\n",
    "To submit your answers for this assignment, create a zip-file containing both this notebook and your *consistent* ontology (saved during task 6). Name this zip-file **assignment_4_VUnetID.zip** (where VUnetID is of course to be replaced by your personal VUnetID, eg **rss220**), and submit it via Canvas."
   ]
  }
 ],
 "metadata": {
  "kernelspec": {
   "display_name": "Python 3 (ipykernel)",
   "language": "python",
   "name": "python3"
  },
  "language_info": {
   "codemirror_mode": {
    "name": "ipython",
    "version": 3
   },
   "file_extension": ".py",
   "mimetype": "text/x-python",
   "name": "python",
   "nbconvert_exporter": "python",
   "pygments_lexer": "ipython3",
   "version": "3.12.3"
  }
 },
 "nbformat": 4,
 "nbformat_minor": 4
}
