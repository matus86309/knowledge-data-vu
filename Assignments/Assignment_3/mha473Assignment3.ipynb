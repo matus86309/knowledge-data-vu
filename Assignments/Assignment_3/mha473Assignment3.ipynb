{
 "cells": [
  {
   "cell_type": "markdown",
   "metadata": {},
   "source": [
    "# Knowledge and Data: Practical Assignment 3 \n",
    "## RDF Data, RDFS knowledge and inferencing "
   ]
  },
  {
   "cell_type": "markdown",
   "metadata": {},
   "source": [
    "YOUR NAME: Matúš Hába\n",
    "\n",
    "YOUR VUNetID: mha473\n",
    "\n",
    "*(If you do not provide your name and VUNetID we will not accept your submission).* "
   ]
  },
  {
   "cell_type": "markdown",
   "metadata": {},
   "source": [
    "### Learning objectives\n",
    "\n",
    "At the end of this exercise you should be able to:\n",
    "\n",
    "1. Access local an external data via SPARQL both from within a python programming environment and stand-alone with a GUI, such as [YASGUI](https://yasgui.triply.cc/), and this way integrate data from different sources  \n",
    "2. Model your own first knowledge base, in this case an RDF Schema knowledge graph\n",
    "3. Implement inference rules "
   ]
  },
  {
   "cell_type": "markdown",
   "metadata": {},
   "source": [
    "Follow this Notebook step-by-step. \n",
    "\n",
    "Of course, you can do the exercises in any Programming Editor of your liking. \n",
    "But you do not have to. Feel free to simply write code in the Notebook. When \n",
    "everythink is filled in and works, safe the Notebook and submit it \n",
    "as a Jupyter Notebook, i.e. with an ipynb extension. Please use as name of the \n",
    "Notebook your studentID+Assignment3.ipynb.  \n",
    "\n",
    "\n",
    "We will not evaluate the programming style of your solutions. Yet we do look whether your solutions suggests an understanding, and whether they yield the correct output.\n",
    "\n",
    "Note that all notebooks will automatically be checked for plagiarism: while similar answers can be expected, it is not allowed to directly copy the solutions from fellow students or TAs, or from the examples discussed during the lectures. Similarly, sharing your solutions with your peers is not allowed.\n",
    "\n",
    "**IMPORTANT: Submit this notebook after finishing the assignment. It is not necessary to submit the created turtle files**"
   ]
  },
  {
   "cell_type": "markdown",
   "metadata": {},
   "source": [
    "Before you start, you need to:\n",
    "\n",
    "- **Install the *rdflib* Python package:** *pip install rdflib* (should already be installed from the previous assignment)\n",
    "- **Install the *SPARQLWrapper* Python package:** *pip install SPARQLWrapper*\n",
    "- **Install the free edition of the GraphDB Triplestore:** please follow this short [GraphDB tutorial](https://github.com/ucds-vu/knowledge-data-vu/blob/master/Tutorials/Preliminaries/tutorial-GraphDB.md). \n",
    "\n",
    "Then, add the file example-from-slides.ttl to a newly created database, say called assignment-3. \n",
    "\n",
    "**Note that you should have an active internet connection to run the code in this notebook. If, for some external reason (ie internet and/or system issues), you cannot access the SPARQL endpoint, then report this to a TA as soon as possible!**"
   ]
  },
  {
   "cell_type": "code",
   "execution_count": 12,
   "metadata": {},
   "outputs": [
    {
     "name": "stdout",
     "output_type": "stream",
     "text": [
      "Defaulting to user installation because normal site-packages is not writeable\n",
      "Requirement already satisfied: SPARQLWrapper in c:\\users\\matus\\appdata\\local\\packages\\pythonsoftwarefoundation.python.3.12_qbz5n2kfra8p0\\localcache\\local-packages\\python312\\site-packages (2.0.0)\n",
      "Requirement already satisfied: rdflib>=6.1.1 in c:\\users\\matus\\appdata\\local\\packages\\pythonsoftwarefoundation.python.3.12_qbz5n2kfra8p0\\localcache\\local-packages\\python312\\site-packages (from SPARQLWrapper) (7.0.0)\n",
      "Requirement already satisfied: isodate<0.7.0,>=0.6.0 in c:\\users\\matus\\appdata\\local\\packages\\pythonsoftwarefoundation.python.3.12_qbz5n2kfra8p0\\localcache\\local-packages\\python312\\site-packages (from rdflib>=6.1.1->SPARQLWrapper) (0.6.1)\n",
      "Requirement already satisfied: pyparsing<4,>=2.1.0 in c:\\users\\matus\\appdata\\local\\packages\\pythonsoftwarefoundation.python.3.12_qbz5n2kfra8p0\\localcache\\local-packages\\python312\\site-packages (from rdflib>=6.1.1->SPARQLWrapper) (3.1.4)\n",
      "Requirement already satisfied: six in c:\\users\\matus\\appdata\\local\\packages\\pythonsoftwarefoundation.python.3.12_qbz5n2kfra8p0\\localcache\\local-packages\\python312\\site-packages (from isodate<0.7.0,>=0.6.0->rdflib>=6.1.1->SPARQLWrapper) (1.16.0)\n",
      "Note: you may need to restart the kernel to use updated packages.\n"
     ]
    }
   ],
   "source": [
    "# install library\n",
    "%pip install SPARQLWrapper"
   ]
  },
  {
   "cell_type": "markdown",
   "metadata": {},
   "source": [
    "## Task 1: (35 points) Integrate Local and External Data"
   ]
  },
  {
   "cell_type": "markdown",
   "metadata": {},
   "source": [
    "You can integrate SPARQL queries into your Python code by using the *RDFLib* and *SPARQLWrapper* libraries. \n",
    "\n",
    "The following code accesses the DBPedia knowledge graph using its SPARQL endpoint, and returns the result of the SPARQL query requesting all the labels asserted to Amsterdam (test it!)  "
   ]
  },
  {
   "cell_type": "code",
   "execution_count": 13,
   "metadata": {},
   "outputs": [
    {
     "name": "stdout",
     "output_type": "stream",
     "text": [
      "Amsterdam\n",
      "أمستردام\n",
      "Amsterdam\n",
      "Amsterdam\n",
      "Amsterdam\n",
      "Άμστερνταμ\n",
      "Amsterdamo\n",
      "Ámsterdam\n",
      "Amsterdam\n",
      "Amstardam\n",
      "Amsterdam\n",
      "Amsterdam\n",
      "Amsterdam\n",
      "암스테르담\n",
      "アムステルダム\n",
      "Amsterdam\n",
      "Amsterdam\n",
      "Амстердам\n",
      "Amesterdão\n",
      "Amsterdam\n",
      "Амстердам\n",
      "阿姆斯特丹\n"
     ]
    }
   ],
   "source": [
    "# This code only works if you are online.\n",
    "# If, for some reason, you cannot get this to work, then please contact a TA\n",
    "\n",
    "from rdflib import Graph, RDF, RDFS, Namespace, Literal, URIRef\n",
    "from SPARQLWrapper import SPARQLWrapper, JSON\n",
    "\n",
    "sparql = SPARQLWrapper(\"http://dbpedia.org/sparql\")\n",
    "sparql.setQuery(\"\"\"\n",
    "    PREFIX rdfs: <http://www.w3.org/2000/01/rdf-schema#>\n",
    "    SELECT ?cityName\n",
    "    WHERE { \n",
    "        <http://dbpedia.org/resource/Amsterdam> rdfs:label ?cityName \n",
    "    }\n",
    "\"\"\")\n",
    "sparql.setReturnFormat(JSON)\n",
    "results = sparql.query().convert()\n",
    "for result in results[\"results\"][\"bindings\"]:\n",
    "    print(result[\"cityName\"][\"value\"])  "
   ]
  },
  {
   "cell_type": "markdown",
   "metadata": {},
   "source": [
    "For your convenience, we already wrote the following functions that might be useful to complete this task. \n",
    "In addition, we have loaded and printed the 'example-from-slides.ttl' dataset."
   ]
  },
  {
   "cell_type": "code",
   "execution_count": 14,
   "metadata": {},
   "outputs": [
    {
     "name": "stdout",
     "output_type": "stream",
     "text": [
      "@prefix ex: <http://example.com/kad/> .\n",
      "@prefix rdfs: <http://www.w3.org/2000/01/rdf-schema#> .\n",
      "\n",
      "ex:Netherlands a ex:Country ;\n",
      "    ex:contains ex:Ijsselmeer ;\n",
      "    ex:containsCity ex:Rotterdam ;\n",
      "    ex:hasCapital ex:Amsterdam ;\n",
      "    ex:hasName \"The Netherlands\" ;\n",
      "    ex:neighbours ex:Belgium .\n",
      "\n",
      "ex:hasCapital rdfs:range ex:Capital ;\n",
      "    rdfs:subPropertyOf ex:containsCity .\n",
      "\n",
      "ex:neighbours rdfs:subPropertyOf ex:closeBy .\n",
      "\n",
      "ex:Amsterdam a ex:Capital ;\n",
      "    ex:closeBy ex:Germany .\n",
      "\n",
      "ex:Belgium a ex:Country .\n",
      "\n",
      "ex:EuropeanCountry rdfs:subClassOf ex:Country .\n",
      "\n",
      "ex:Germany a ex:EuropeanCountry ;\n",
      "    ex:hasCapital ex:Berlin .\n",
      "\n",
      "ex:closeBy rdfs:domain ex:Location ;\n",
      "    rdfs:range ex:Location .\n",
      "\n",
      "ex:containsCity rdfs:domain ex:Country ;\n",
      "    rdfs:range ex:City ;\n",
      "    rdfs:subPropertyOf ex:contains .\n",
      "\n",
      "ex:Capital rdfs:subClassOf ex:City .\n",
      "\n",
      "ex:City rdfs:subClassOf ex:Location .\n",
      "\n",
      "ex:Country rdfs:subClassOf ex:Location .\n",
      "\n",
      "\n"
     ]
    }
   ],
   "source": [
    "from rdflib import Graph, RDF, Namespace, Literal, URIRef\n",
    "from SPARQLWrapper import SPARQLWrapper, JSON\n",
    "\n",
    "\n",
    "# Loads the data from a certain file given as input in Turtle syntax into the Graph g  \n",
    "# -------------------------\n",
    "def load_graph(graph, filename):\n",
    "    with open(filename, 'r') as f:\n",
    "        graph.parse(f, format='turtle')\n",
    "        \n",
    "\n",
    "# Prints a certain graph given as input in Turtle syntax\n",
    "# if your output shows byte string (ie, b'...') you must add '.decode()' to the print statements:\n",
    "#    print(myGraph.serialize(format='turtle').decode())\n",
    "# -------------------------\n",
    "def serialize_graph(myGraph):\n",
    "     print(myGraph.serialize(format='turtle'))\n",
    "        \n",
    "\n",
    "# Saves the Graph g in Turtle syntax to a certain file given as input\n",
    "# -------------------------\n",
    "def save_graph(myGraph, filename):\n",
    "    with open(filename, 'w') as f:\n",
    "        myGraph.serialize(filename, format='turtle')\n",
    "        \n",
    "    \n",
    "# Changes the namespace of a certain URI given as input to a DBpedia URI \n",
    "# Example: transformToDBR(\"http://example.com/kad2020/Amsterdam\") returns \"http://dbpedia.org/resource/Amsterdam\"\n",
    "# -------------------------\n",
    "def transformToDBR(uri):\n",
    "    if isinstance(uri, Literal):\n",
    "        # changes the literal to uppercase so that the object with the same name refers to an object and not the string\n",
    "        return uri.upper()\n",
    "    components = g.namespace_manager.compute_qname(uri)\n",
    "    return \"http://dbpedia.org/resource/%s\"%(components[2])\n",
    "\n",
    "# -------------------------\n",
    "\n",
    "g = Graph()\n",
    "load_graph(g, 'example-from-slides.ttl')\n",
    "serialize_graph(g)\n",
    "\n",
    "\n",
    "# Don't forget to run this cell before continuing the task.\n"
   ]
  },
  {
   "cell_type": "markdown",
   "metadata": {},
   "source": [
    "### A: Write a SPARQL query that finds all the cities in the dataset\n",
    "\n",
    "As you cannot directly use class City, you will have to find those cities in the dataset (example-from-slides.ttl) using implicit information that can be deduced from the domain and ranges of the relations (e.g. things in a hasCapital relation are capitals and a capital is a city, etc.).\n",
    "\n",
    "Save all the cities returned from the SPARQL query into the empty set \"cities\". "
   ]
  },
  {
   "cell_type": "code",
   "execution_count": 15,
   "metadata": {},
   "outputs": [
    {
     "name": "stdout",
     "output_type": "stream",
     "text": [
      "http://example.com/kad/Berlin\n",
      "http://example.com/kad/Amsterdam\n",
      "http://example.com/kad/Rotterdam\n"
     ]
    }
   ],
   "source": [
    "cities = { e for f in g.query(\"\"\"\n",
    "    PREFIX ex: <http://example.com/kad/>\n",
    "    PREFIX rdfs: <http://www.w3.org/2000/01/rdf-schema#>\n",
    "    SELECT DISTINCT ?city WHERE\n",
    "    {\n",
    "        ?country a ?countryDef.\n",
    "        ?countryDef rdfs:subClassOf* ex:Country.\n",
    "        ?country ?relation ?city.\n",
    "        ?relation rdfs:subPropertyOf* ex:containsCity.\n",
    "    }\n",
    "\"\"\") for e in f}\n",
    "    \n",
    "for city in cities:\n",
    "    print(city) "
   ]
  },
  {
   "cell_type": "markdown",
   "metadata": {},
   "source": [
    "### B: For each city, find from DBpedia its longitude & latitude, and its number of inhabitants (if available)\n",
    "\n",
    "Don't forget to adapt the namespace of the cities in your dataset when querying DBpedia, using the above function *transformToDBR(uri)*. Also note that namespaces should never use the *https* protocol.\n",
    "\n",
    "The empty graph h should only contain the triples extracted from DBpedia, but added to the URIs with the 'ex' namespace. \n",
    "An example of a triple in h is the following triple: \n",
    "       \n",
    "       ex:Amsterdam dbo:populationTotal \"872680\"^^xsd:nonNegativeInteger ."
   ]
  },
  {
   "cell_type": "code",
   "execution_count": 16,
   "metadata": {},
   "outputs": [
    {
     "name": "stdout",
     "output_type": "stream",
     "text": [
      "@prefix dbo: <http://dbpedia.org/ontology/> .\n",
      "@prefix geo1: <http://www.w3.org/2003/01/geo/wgs84_pos#> .\n",
      "\n",
      "<http://example.com/kad/Amsterdam> dbo:populationTotal \"907976\" ;\n",
      "    geo1:lat \"52.36666488647461\" ;\n",
      "    geo1:long \"4.900000095367432\" .\n",
      "\n",
      "<http://example.com/kad/Berlin> dbo:populationTotal \"3677472\" ;\n",
      "    geo1:lat \"52.52000045776367\" ;\n",
      "    geo1:long \"13.40499973297119\" .\n",
      "\n",
      "<http://example.com/kad/Rotterdam> dbo:populationTotal \"651157\" ;\n",
      "    geo1:lat \"51.91666793823242\" ;\n",
      "    geo1:long \"4.5\" .\n",
      "\n",
      "\n"
     ]
    }
   ],
   "source": [
    "h = Graph()\n",
    "DBO = Namespace(\"http://dbpedia.org/ontology/\")\n",
    "GEO = Namespace(\"http://www.w3.org/2003/01/geo/wgs84_pos#\")\n",
    "h.bind(\"dbo\", DBO)\n",
    "h.bind(\"geo\", GEO)\n",
    "\n",
    "for city in cities:\n",
    "    sparql = SPARQLWrapper(\"http://dbpedia.org/sparql\")\n",
    "    sparql.setQuery(f\"\"\"\n",
    "        PREFIX geo: <http://www.w3.org/2003/01/geo/wgs84_pos#>\n",
    "        PREFIX dbo: <http://dbpedia.org/ontology/>\n",
    "        SELECT ?lat ?long ?population\n",
    "            WHERE {'{'} \n",
    "                <{transformToDBR(city)}>\n",
    "                    geo:lat ?lat;\n",
    "                    geo:long ?long;\n",
    "                    dbo:populationTotal ?population.\n",
    "            {'}'} LIMIT 10\n",
    "    \"\"\")\n",
    "    \n",
    "    sparql.setReturnFormat(JSON)\n",
    "    results = sparql.query().convert()\n",
    "    for result in results[\"results\"][\"bindings\"]:\n",
    "        h.add((city, DBO.populationTotal, Literal(result[\"population\"][\"value\"])))\n",
    "        h.add((city, GEO.lat, Literal(result[\"lat\"][\"value\"])))\n",
    "        h.add((city, GEO.long, Literal(result[\"long\"][\"value\"])))\n",
    "\n",
    "serialize_graph(h)\n"
   ]
  },
  {
   "cell_type": "markdown",
   "metadata": {},
   "source": [
    "### C: Save your results\n",
    "\n",
    "- Merge the triples from example-from-slides.ttl with the information extracted from DBpedia. See the [documentation](https://rdflib.readthedocs.io/en/stable/merging.html) on how to accomplish this.\n",
    "- Save all these triples into a new file 'extended-example.ttl'. **It is not necessary to submit this file**\n",
    "- Print all triples in Turtle Syntax.\n"
   ]
  },
  {
   "cell_type": "code",
   "execution_count": 18,
   "metadata": {},
   "outputs": [
    {
     "name": "stdout",
     "output_type": "stream",
     "text": [
      "@prefix dbo: <http://dbpedia.org/ontology/> .\n",
      "@prefix ex: <http://example.com/kad/> .\n",
      "@prefix geo1: <http://www.w3.org/2003/01/geo/wgs84_pos#> .\n",
      "@prefix rdfs: <http://www.w3.org/2000/01/rdf-schema#> .\n",
      "\n",
      "ex:Netherlands a ex:Country ;\n",
      "    ex:contains ex:Ijsselmeer ;\n",
      "    ex:containsCity ex:Rotterdam ;\n",
      "    ex:hasCapital ex:Amsterdam ;\n",
      "    ex:hasName \"The Netherlands\" ;\n",
      "    ex:neighbours ex:Belgium .\n",
      "\n",
      "ex:hasCapital rdfs:range ex:Capital ;\n",
      "    rdfs:subPropertyOf ex:containsCity .\n",
      "\n",
      "ex:neighbours rdfs:subPropertyOf ex:closeBy .\n",
      "\n",
      "ex:Amsterdam a ex:Capital ;\n",
      "    dbo:populationTotal \"907976\" ;\n",
      "    ex:closeBy ex:Germany ;\n",
      "    geo1:lat \"52.36666488647461\" ;\n",
      "    geo1:long \"4.900000095367432\" .\n",
      "\n",
      "ex:Belgium a ex:Country .\n",
      "\n",
      "ex:Berlin dbo:populationTotal \"3677472\" ;\n",
      "    geo1:lat \"52.52000045776367\" ;\n",
      "    geo1:long \"13.40499973297119\" .\n",
      "\n",
      "ex:EuropeanCountry rdfs:subClassOf ex:Country .\n",
      "\n",
      "ex:Germany a ex:EuropeanCountry ;\n",
      "    ex:hasCapital ex:Berlin .\n",
      "\n",
      "ex:Rotterdam dbo:populationTotal \"651157\" ;\n",
      "    geo1:lat \"51.91666793823242\" ;\n",
      "    geo1:long \"4.5\" .\n",
      "\n",
      "ex:closeBy rdfs:domain ex:Location ;\n",
      "    rdfs:range ex:Location .\n",
      "\n",
      "ex:containsCity rdfs:domain ex:Country ;\n",
      "    rdfs:range ex:City ;\n",
      "    rdfs:subPropertyOf ex:contains .\n",
      "\n",
      "ex:Capital rdfs:subClassOf ex:City .\n",
      "\n",
      "ex:City rdfs:subClassOf ex:Location .\n",
      "\n",
      "ex:Country rdfs:subClassOf ex:Location .\n",
      "\n",
      "\n"
     ]
    }
   ],
   "source": [
    "# Your code here\n",
    "\n",
    "gh = g + h\n",
    "\n",
    "save_graph(gh, \"extended-example.ttl\")\n",
    "\n",
    "serialize_graph(gh)"
   ]
  },
  {
   "cell_type": "markdown",
   "metadata": {},
   "source": [
    "## Task 2: (25 points)  Implement Basic Inferencing Rules "
   ]
  },
  {
   "cell_type": "markdown",
   "metadata": {},
   "source": [
    "In the lecture we showed that the RDFS inference rules can be used to infer new knowledge. For example, infer class membership based on _rdfs:domain_ or infer relationships between subjects and objects based on _rdfs:subPropertyOf_. \n",
    "\n",
    "Create rules to inference class membership based on the RDF Schema language features \n",
    "*\tFor example: infer that an instance belongs to a class because of domain and range restrictions\n",
    "*\tFor example: infer that an instance belongs to a (super)class because it also belongs to a subclass\n",
    "\n",
    "We implemented the __rdfs2__ rule. You should implement the 5 following remaining rules:  \n",
    "\n",
    "*     (rdfs2) If G contains the triples (aaa rdfs:domain xxx.) and (uuu aaa yyy.)  then infer the triple (uuu rdf:type xxx.)\n",
    "*     (rdfs3) If G contains the triples (aaa rdfs:range xxx.) and (uuu aaa vvv.) then infer the triple (vvv rdf:type xxx .)\n",
    "*     (rdfs5) If G contains the triples (uuu rdfs:subPropertyOf vvv.) and (vvv rdfs:subPropertyOf xxx.) then infer the triple (uuu rdfs:subPropertyOf xxx.) \n",
    "*     (rdfs7) If G contains the triples (aaa rdfs:subPropertyOf bbb.) and (uuu aaa yyy.) then infer the triple (uuu bbb yyy) \n",
    "*     (rdfs9) If G contains the triples (uuu rdfs:subClassOf xxx.) and (vvv rdf:type uuu.) then infer the triple (vvv rdf:type xxx.)   -> this one was not mentioned in the lecture, but is a very important one. \n",
    "*     (rdfs11) If G contains the triples (uuu rdfs:subClassOf vvv.) and (vvv rdfs:subClassOf xxx.) then infer the triple (uuu rdfs:subClassOf xxx.)\n",
    "\n",
    "\n",
    "Run your rule reasoner on your knowledge graph. If you have implemented everything correctly, you should find exactly 17 inferences."
   ]
  },
  {
   "cell_type": "code",
   "execution_count": 7,
   "metadata": {},
   "outputs": [
    {
     "name": "stdout",
     "output_type": "stream",
     "text": [
      "(rdfs 2)  http://example.com/kad/Amsterdam rdf:type http://example.com/kad/Location\n",
      "(rdfs 9)  http://example.com/kad/Germany rdf:type http://example.com/kad/Country\n",
      "(rdfs 11)  http://example.com/kad/Location rdf:subClassOf http://example.com/kad/EuropeanCountry\n",
      "(rdfs 3)  http://example.com/kad/Rotterdam rdf:type http://example.com/kad/City\n",
      "(rdfs 2)  http://example.com/kad/Netherlands rdf:type http://example.com/kad/Country\n",
      "(rdfs 7)  http://example.com/kad/Netherlands http://example.com/kad/closeBy http://example.com/kad/Belgium\n",
      "(rdfs 3)  http://example.com/kad/Germany rdf:type http://example.com/kad/Location\n",
      "(rdfs 5)  http://example.com/kad/hasCapital rdf:subPropertyOf http://example.com/kad/contains\n",
      "(rdfs 7)  http://example.com/kad/Netherlands http://example.com/kad/containsCity http://example.com/kad/Amsterdam\n",
      "(rdfs 7)  http://example.com/kad/Germany http://example.com/kad/containsCity http://example.com/kad/Berlin\n",
      "(rdfs 9)  http://example.com/kad/Netherlands rdf:type http://example.com/kad/Location\n",
      "(rdfs 9)  http://example.com/kad/Belgium rdf:type http://example.com/kad/Location\n",
      "(rdfs 9)  http://example.com/kad/Amsterdam rdf:type http://example.com/kad/City\n",
      "(rdfs 11)  http://example.com/kad/Location rdf:subClassOf http://example.com/kad/Capital\n",
      "(rdfs 7)  http://example.com/kad/Netherlands http://example.com/kad/contains http://example.com/kad/Rotterdam\n",
      "(rdfs 3)  http://example.com/kad/Amsterdam rdf:type http://example.com/kad/Capital\n",
      "(rdfs 3)  http://example.com/kad/Berlin rdf:type http://example.com/kad/Capital\n",
      "---------------------------------\n",
      "Number of inferred triples: 17\n",
      "---------------------------------\n"
     ]
    }
   ],
   "source": [
    "def myRDFSreasoner(myGraph: Graph):\n",
    "    inferredTriples = 0\n",
    "    for sbj, prd, obj in myGraph:\n",
    "\n",
    "        # --- rdfs2 ---\n",
    "        if (prd.eq(URIRef(\"http://www.w3.org/2000/01/rdf-schema#domain\"))):\n",
    "            generator = myGraph.subject_objects(URIRef(sbj))\n",
    "            for s, o in generator:\n",
    "                inferredTriples += 1\n",
    "                print(\"(rdfs 2) \", s, \"rdf:type\", obj)\n",
    "        \n",
    "        \n",
    "        # --- rdfs3 ---\n",
    "        if (prd.eq(URIRef(\"http://www.w3.org/2000/01/rdf-schema#range\"))):\n",
    "            generator = myGraph.subject_objects(URIRef(sbj))\n",
    "            for s, o in generator:\n",
    "                inferredTriples += 1\n",
    "                print(\"(rdfs 3) \", o, \"rdf:type\", obj)\n",
    "        \n",
    "        \n",
    "        # --- rdfs5 ---\n",
    "        if (prd.eq(URIRef(\"http://www.w3.org/2000/01/rdf-schema#subPropertyOf\"))):\n",
    "            generator = myGraph.subject_objects(URIRef(\"http://www.w3.org/2000/01/rdf-schema#subPropertyOf\"))\n",
    "            for s, o in generator:\n",
    "                if s == obj:\n",
    "                    inferredTriples += 1\n",
    "                    print(\"(rdfs 5) \", sbj, \"rdf:subPropertyOf\", o)\n",
    "\n",
    "\n",
    "        # # --- rdfs7 ---\n",
    "        if (prd.eq(URIRef(\"http://www.w3.org/2000/01/rdf-schema#subPropertyOf\"))):\n",
    "            generator = myGraph.subject_objects(URIRef(sbj))\n",
    "            for s, o in generator:\n",
    "                inferredTriples += 1\n",
    "                print(\"(rdfs 7) \", s, obj, o)\n",
    "\n",
    "\n",
    "        # --- rdfs9 ---\n",
    "        if (prd.eq(URIRef(\"http://www.w3.org/2000/01/rdf-schema#subClassOf\"))):\n",
    "            generator = myGraph.subject_objects(URIRef(\"http://www.w3.org/1999/02/22-rdf-syntax-ns#type\"))\n",
    "            for s, o in generator:\n",
    "                if sbj == o:\n",
    "                    inferredTriples += 1\n",
    "                    print(\"(rdfs 9) \", s, \"rdf:type\", obj)\n",
    "        \n",
    "        \n",
    "        # --- rdfs11 ---\n",
    "        if (prd.eq(URIRef(\"http://www.w3.org/2000/01/rdf-schema#subClassOf\"))):\n",
    "            generator = myGraph.subject_objects(URIRef(\"http://www.w3.org/2000/01/rdf-schema#subClassOf\"))\n",
    "            for s, o in generator:\n",
    "                if obj == s:\n",
    "                    inferredTriples += 1\n",
    "                    print(\"(rdfs 11) \", o, \"rdf:subClassOf\", sbj)\n",
    "        \n",
    "    print(\"---------------------------------\")\n",
    "    print(\"Number of inferred triples:\", inferredTriples)\n",
    "    print(\"---------------------------------\")\n",
    "    \n",
    "myRDFSreasoner(g)  # test your reasoner\n",
    "\n"
   ]
  },
  {
   "cell_type": "markdown",
   "metadata": {},
   "source": [
    "## Task 3: (20 points) Build your very own RDFS knowledge graph. \n"
   ]
  },
  {
   "cell_type": "markdown",
   "metadata": {},
   "source": [
    "Define a small RDF Schema vocabulary in Turtle. You can choose your own domain (e.g. movies, geography, sports), as long as it hasn't been used as an example during the lectures. The following rules must be respected:\n",
    "*\tThe schema should define at least 4 classes, 4 properties, and 4 instances.\n",
    "*   The properties should be used to relate the instances (i.e., object-type relations)\n",
    "*\tThe instances should be members of at least one of the 4 defined classes\n",
    "*\tAll resources should have an rdfs:label attribute in a suitable language.\n",
    "\n",
    "You should use (at least) the following language features of RDF and RDFS:\n",
    "* \trdf:type (or 'a')\n",
    "* \trdfs:subClassOf\n",
    "* \trdfs:subPropertyOf\n",
    "* \trdfs:domain and rdfs:range\n",
    "*\trdfs:label\n",
    "\n",
    "Be sure to define the 'rdf:' and 'rdfs:' namespace prefixes for RDF and RDF Schema in your file (perhaps have a look at http://prefix.cc)\n",
    "\n",
    "For creating your vocabulary you should add the axioms directly (programatically) to your Knowledge Graph as you did last week. \n",
    "\n",
    "Play around with the inference rules you have created in the previous task to make sure that you added some implicit knowledge, that becomes \"visible\" via inferencing (this will be useful for the next task). \n",
    "\n",
    "Finally:\n",
    "- Add the knowledge you created into the RDFlib graph datastructure *myRDFSgraph*, \n",
    "- Print *myRDFSgraph* in Turtle so that we can check your \"design\"\n",
    "- Save *myRDFSgraph* into a new file 'myRDFSgraph.ttl' (it is not necessary to submit this file)"
   ]
  },
  {
   "cell_type": "code",
   "execution_count": 12,
   "metadata": {},
   "outputs": [
    {
     "name": "stdout",
     "output_type": "stream",
     "text": [
      "Now let's check what we can infer from your knowledge graph...\n",
      "The more rules you cover, the better!\n",
      "(rdfs 3)  http://example/dota2/Player3 rdf:type http://example/dota2/Player\n",
      "(rdfs 3)  http://example/dota2/Player3 rdf:type http://example/dota2/Player\n",
      "(rdfs 3)  http://example/dota2/Player4 rdf:type http://example/dota2/Player\n",
      "(rdfs 3)  http://example/dota2/Player4 rdf:type http://example/dota2/Player\n",
      "(rdfs 3)  http://example/dota2/Player1 rdf:type http://example/dota2/Player\n",
      "(rdfs 3)  http://example/dota2/Player1 rdf:type http://example/dota2/Player\n",
      "(rdfs 3)  http://example/dota2/Player2 rdf:type http://example/dota2/Player\n",
      "(rdfs 3)  http://example/dota2/Player2 rdf:type http://example/dota2/Player\n",
      "(rdfs 2)  http://example/dota2/Player1 rdf:type http://example/dota2/Player\n",
      "(rdfs 2)  http://example/dota2/Player2 rdf:type http://example/dota2/Player\n",
      "(rdfs 2)  http://example/dota2/Player3 rdf:type http://example/dota2/Player\n",
      "(rdfs 2)  http://example/dota2/Player4 rdf:type http://example/dota2/Player\n",
      "(rdfs 9)  http://example/dota2/Bristleback rdf:type http://example/dota2/Hero\n",
      "(rdfs 9)  http://example/dota2/Axe rdf:type http://example/dota2/Hero\n",
      "(rdfs 2)  http://example/dota2/Player1 rdf:type http://example/dota2/Player\n",
      "(rdfs 2)  http://example/dota2/Player2 rdf:type http://example/dota2/Player\n",
      "(rdfs 2)  http://example/dota2/Player3 rdf:type http://example/dota2/Player\n",
      "(rdfs 2)  http://example/dota2/Player4 rdf:type http://example/dota2/Player\n",
      "(rdfs 3)  http://example/dota2/Axe rdf:type http://example/dota2/PickedHero\n",
      "(rdfs 3)  http://example/dota2/Juggernaut rdf:type http://example/dota2/PickedHero\n",
      "(rdfs 3)  http://example/dota2/SandKing rdf:type http://example/dota2/PickedHero\n",
      "(rdfs 3)  http://example/dota2/PhantomLancer rdf:type http://example/dota2/PickedHero\n",
      "(rdfs 3)  http://example/dota2/Lion rdf:type http://example/dota2/BannedHero\n",
      "(rdfs 3)  http://example/dota2/WindRanger rdf:type http://example/dota2/BannedHero\n",
      "(rdfs 3)  http://example/dota2/Lina rdf:type http://example/dota2/BannedHero\n",
      "(rdfs 3)  http://example/dota2/Bristleback rdf:type http://example/dota2/BannedHero\n",
      "(rdfs 2)  http://example/dota2/Player1 rdf:type http://example/dota2/Player\n",
      "(rdfs 2)  http://example/dota2/Player2 rdf:type http://example/dota2/Player\n",
      "(rdfs 2)  http://example/dota2/Player3 rdf:type http://example/dota2/Player\n",
      "(rdfs 2)  http://example/dota2/Player4 rdf:type http://example/dota2/Player\n",
      "(rdfs 3)  http://example/dota2/Player2 rdf:type http://example/dota2/Player\n",
      "(rdfs 3)  http://example/dota2/Player1 rdf:type http://example/dota2/Player\n",
      "(rdfs 3)  http://example/dota2/Player4 rdf:type http://example/dota2/Player\n",
      "(rdfs 3)  http://example/dota2/Player3 rdf:type http://example/dota2/Player\n",
      "(rdfs 2)  http://example/dota2/Player1 rdf:type http://example/dota2/Player\n",
      "(rdfs 2)  http://example/dota2/Player2 rdf:type http://example/dota2/Player\n",
      "(rdfs 2)  http://example/dota2/Player1 rdf:type http://example/dota2/Player\n",
      "(rdfs 2)  http://example/dota2/Player2 rdf:type http://example/dota2/Player\n",
      "(rdfs 2)  http://example/dota2/Player3 rdf:type http://example/dota2/Player\n",
      "(rdfs 2)  http://example/dota2/Player4 rdf:type http://example/dota2/Player\n",
      "(rdfs 2)  http://example/dota2/Player3 rdf:type http://example/dota2/Player\n",
      "(rdfs 2)  http://example/dota2/Player4 rdf:type http://example/dota2/Player\n",
      "(rdfs 9)  http://example/dota2/PhantomLancer rdf:type http://example/dota2/Hero\n",
      "(rdfs 9)  http://example/dota2/Lina rdf:type http://example/dota2/Hero\n",
      "(rdfs 9)  http://example/dota2/Lion rdf:type http://example/dota2/Hero\n",
      "(rdfs 9)  http://example/dota2/Juggernaut rdf:type http://example/dota2/Hero\n",
      "(rdfs 9)  http://example/dota2/WindRanger rdf:type http://example/dota2/Hero\n",
      "(rdfs 9)  http://example/dota2/SandKing rdf:type http://example/dota2/Hero\n",
      "---------------------------------\n",
      "Number of inferred triples: 48\n",
      "---------------------------------\n"
     ]
    }
   ],
   "source": [
    "myRDFSgraph = Graph()\n",
    "\n",
    "\n",
    "DOTA = Namespace(\"http://example/dota2/\")\n",
    "myRDFSgraph.bind(\"dota2\", DOTA)\n",
    "triples = [\n",
    "    [URIRef(\"http://example/dota2/Bristleback\"), RDF.type, URIRef(\"http://example/dota2/StrengthHero\")],\n",
    "    [URIRef(\"http://example/dota2/Bristleback\"), RDFS.label, Literal(\"Bristleback\"),],\n",
    "    [URIRef(\"http://example/dota2/Axe\"), RDF.type, URIRef(\"http://example/dota2/StrengthHero\")],\n",
    "    [URIRef(\"http://example/dota2/Axe\"), RDFS.label, Literal(\"Axe\"),],\n",
    "    [URIRef(\"http://example/dota2/Juggernaut\"), RDF.type, URIRef(\"http://example/dota2/AgilityHero\")],\n",
    "    [URIRef(\"http://example/dota2/Juggernaut\"), RDFS.label, Literal(\"Juggernaut\"),],\n",
    "    [URIRef(\"http://example/dota2/PhantomLancer\"), RDF.type, URIRef(\"http://example/dota2/IntelligenceHero\")],\n",
    "    [URIRef(\"http://example/dota2/PhantomLancer\"), RDFS.label, Literal(\"Phantom lancer\"),],\n",
    "    [URIRef(\"http://example/dota2/Lina\"), RDF.type, URIRef(\"http://example/dota2/IntelligenceHero\")],\n",
    "    [URIRef(\"http://example/dota2/Lina\"), RDFS.label, Literal(\"Lina\"),],\n",
    "    [URIRef(\"http://example/dota2/Lion\"), RDF.type, URIRef(\"http://example/dota2/IntelligenceHero\")],\n",
    "    [URIRef(\"http://example/dota2/Lion\"), RDFS.label, Literal(\"Lion\"),],\n",
    "    [URIRef(\"http://example/dota2/WindRanger\"), RDF.type, URIRef(\"http://example/dota2/UniversalHero\")],\n",
    "    [URIRef(\"http://example/dota2/WindRanger\"), RDFS.label, Literal(\"Wind ranger\"),],\n",
    "    [URIRef(\"http://example/dota2/SandKing\"), RDF.type, URIRef(\"http://example/dota2/UniversalHero\")],\n",
    "    [URIRef(\"http://example/dota2/SandKing\"), RDFS.label, Literal(\"Sand king\"),],\n",
    "    [URIRef(\"http://example/dota2/StrengthHero\"), RDFS.subClassOf, URIRef(\"http://example/dota2/Hero\")],\n",
    "    [URIRef(\"http://example/dota2/StrengthHero\"), RDFS.label, Literal(\"Strength hero\"),],\n",
    "    [URIRef(\"http://example/dota2/AgilityHero\"), RDFS.subClassOf, URIRef(\"http://example/dota2/Hero\")],\n",
    "    [URIRef(\"http://example/dota2/AgilityHero\"), RDFS.label, Literal(\"Agility hero\"),],\n",
    "    [URIRef(\"http://example/dota2/IntelligenceHero\"), RDFS.subClassOf, URIRef(\"http://example/dota2/Hero\")],\n",
    "    [URIRef(\"http://example/dota2/IntelligenceHero\"), RDFS.label, Literal(\"Intelligence hero\"),],\n",
    "    [URIRef(\"http://example/dota2/UniversalHero\"), RDFS.subClassOf, URIRef(\"http://example/dota2/Hero\")],\n",
    "    [URIRef(\"http://example/dota2/UniversalHero\"), RDFS.label, Literal(\"Universal hero\"),],\n",
    "    [URIRef(\"http://example/dota2/BannedHero\"), RDFS.subClassOf, URIRef(\"http://example/dota2/Hero\")],\n",
    "    [URIRef(\"http://example/dota2/BannedHero\"), RDFS.label, Literal(\"Banned hero\"),],\n",
    "    [URIRef(\"http://example/dota2/PickedHero\"), RDFS.subClassOf, URIRef(\"http://example/dota2/Hero\")],\n",
    "    [URIRef(\"http://example/dota2/PickedHero\"), RDFS.label, Literal(\"Picked hero\"),],\n",
    "    [URIRef(\"http://example/dota2/Picked\"), RDFS.range, URIRef(\"http://example/dota2/PickedHero\")],\n",
    "    [URIRef(\"http://example/dota2/Picked\"), RDFS.domain, URIRef(\"http://example/dota2/Player\")],\n",
    "    [URIRef(\"http://example/dota2/Picked\"), RDFS.label, Literal(\"Picked\"),],\n",
    "    [URIRef(\"http://example/dota2/Banned\"), RDFS.range, URIRef(\"http://example/dota2/BannedHero\")],\n",
    "    [URIRef(\"http://example/dota2/Banned\"), RDFS.domain, URIRef(\"http://example/dota2/Player\")],\n",
    "    [URIRef(\"http://example/dota2/Banned\"), RDFS.label, Literal(\"Banned\"),],\n",
    "    [URIRef(\"http://example/dota2/PlaysWith\"), RDFS.range, URIRef(\"http://example/dota2/Player\")],\n",
    "    [URIRef(\"http://example/dota2/PlaysWith\"), RDFS.domain, URIRef(\"http://example/dota2/Player\")],\n",
    "    [URIRef(\"http://example/dota2/PlaysWith\"), RDFS.label, Literal(\"Plays with\"),],\n",
    "    [URIRef(\"http://example/dota2/PlaysAgainst\"), RDFS.range, URIRef(\"http://example/dota2/Player\")],\n",
    "    [URIRef(\"http://example/dota2/PlaysAgainst\"), RDFS.domain, URIRef(\"http://example/dota2/Player\")],\n",
    "    [URIRef(\"http://example/dota2/PlaysAgainst\"), RDFS.label, Literal(\"Plays against\"),],\n",
    "    [URIRef(\"http://example/dota2/Player1\"), URIRef(\"http://example/dota2/Banned\"), URIRef(\"http://example/dota2/Lion\")],\n",
    "    [URIRef(\"http://example/dota2/Player1\"), URIRef(\"http://example/dota2/Picked\"), URIRef(\"http://example/dota2/Axe\")],\n",
    "    [URIRef(\"http://example/dota2/Player1\"), URIRef(\"http://example/dota2/PlaysWith\"), URIRef(\"http://example/dota2/Player2\")],\n",
    "    [URIRef(\"http://example/dota2/Player1\"), URIRef(\"http://example/dota2/PlaysAgainst\"), URIRef(\"http://example/dota2/Player3\")],\n",
    "    [URIRef(\"http://example/dota2/Player1\"), URIRef(\"http://example/dota2/PlaysAgainst\"), URIRef(\"http://example/dota2/Player4\")],\n",
    "    [URIRef(\"http://example/dota2/Player1\"), RDFS.label, Literal(\"Armin\"),],\n",
    "    [URIRef(\"http://example/dota2/Player2\"), URIRef(\"http://example/dota2/Banned\"), URIRef(\"http://example/dota2/WindRanger\")],\n",
    "    [URIRef(\"http://example/dota2/Player2\"), URIRef(\"http://example/dota2/Picked\"), URIRef(\"http://example/dota2/Juggernaut\")],\n",
    "    [URIRef(\"http://example/dota2/Player2\"), URIRef(\"http://example/dota2/PlaysWith\"), URIRef(\"http://example/dota2/Player1\")],\n",
    "    [URIRef(\"http://example/dota2/Player2\"), URIRef(\"http://example/dota2/PlaysAgainst\"), URIRef(\"http://example/dota2/Player3\")],\n",
    "    [URIRef(\"http://example/dota2/Player2\"), URIRef(\"http://example/dota2/PlaysAgainst\"), URIRef(\"http://example/dota2/Player4\")],\n",
    "    [URIRef(\"http://example/dota2/Player2\"), RDFS.label, Literal(\"Benny\"),],\n",
    "    [URIRef(\"http://example/dota2/Player3\"), URIRef(\"http://example/dota2/Banned\"), URIRef(\"http://example/dota2/Lina\")],\n",
    "    [URIRef(\"http://example/dota2/Player3\"), URIRef(\"http://example/dota2/Picked\"), URIRef(\"http://example/dota2/SandKing\")],\n",
    "    [URIRef(\"http://example/dota2/Player3\"), URIRef(\"http://example/dota2/PlaysWith\"), URIRef(\"http://example/dota2/Player4\")],\n",
    "    [URIRef(\"http://example/dota2/Player3\"), URIRef(\"http://example/dota2/PlaysAgainst\"), URIRef(\"http://example/dota2/Player1\")],\n",
    "    [URIRef(\"http://example/dota2/Player3\"), URIRef(\"http://example/dota2/PlaysAgainst\"), URIRef(\"http://example/dota2/Player2\")],\n",
    "    [URIRef(\"http://example/dota2/Player3\"), RDFS.label, Literal(\"Christa\"),],\n",
    "    [URIRef(\"http://example/dota2/Player4\"), URIRef(\"http://example/dota2/Banned\"), URIRef(\"http://example/dota2/Bristleback\")],\n",
    "    [URIRef(\"http://example/dota2/Player4\"), URIRef(\"http://example/dota2/Picked\"), URIRef(\"http://example/dota2/PhantomLancer\")],\n",
    "    [URIRef(\"http://example/dota2/Player4\"), URIRef(\"http://example/dota2/PlaysWith\"), URIRef(\"http://example/dota2/Player3\")],\n",
    "    [URIRef(\"http://example/dota2/Player4\"), URIRef(\"http://example/dota2/PlaysAgainst\"), URIRef(\"http://example/dota2/Player1\")],\n",
    "    [URIRef(\"http://example/dota2/Player4\"), URIRef(\"http://example/dota2/PlaysAgainst\"), URIRef(\"http://example/dota2/Player2\")],\n",
    "    [URIRef(\"http://example/dota2/Player4\"), RDFS.label, Literal(\"Daniel\"),],\n",
    "]\n",
    "\n",
    "for t in triples :\n",
    "    myRDFSgraph.add(t)\n",
    "\n",
    "print(\"Now let's check what we can infer from your knowledge graph...\")\n",
    "print(\"The more rules you cover, the better!\")\n",
    "myRDFSreasoner(myRDFSgraph)\n",
    "save_graph(myRDFSgraph, \"myRDFSgraph.ttl\")\n",
    "\n"
   ]
  },
  {
   "cell_type": "markdown",
   "metadata": {},
   "source": [
    "## Task 4 (20 points) Compare local inferences with GraphDB results"
   ]
  },
  {
   "cell_type": "markdown",
   "metadata": {},
   "source": [
    "Upload *myRDFSgraph.ttl* to GraphDB (check [the GraphDB tutorial](https://github.com/ucds-vu/knowledge-data-vu/blob/master/Tutorials/Preliminaries/tutorial-GraphDB.md) before starting to work with GraphDB).\n",
    "\n",
    "Formulate two different SPARQL queries, and write a Python code that executes these queries over your GraphDB SPARQL endpoint (check example of Task 1).\n",
    "\n",
    "**Each SPARQL query should return a _different type_ of inferred knowledge** (at least one triple that was not explicitly asserted in the graph).\n",
    "\n",
    "Specify below next to your query (using a comment '# ...') which type of RDFS rule is the GraphDB reasoner using to infer this answer (rdfs2, rdfs3, rdfs5, rdfs7, rdfs9, rdfs11). "
   ]
  },
  {
   "cell_type": "code",
   "execution_count": 13,
   "metadata": {},
   "outputs": [],
   "source": [
    "# Get your GraphDB repository URL (setup -> repositories -> repository url) and assign it to the variable 'myEndpoint' below. \n",
    "# It should be similar to this: \n",
    "\n",
    "myEndpoint = \"http://laptop:7200/repositories/KnowledgeAndData\"  # KnowledgeAndData is the name of the repository\n",
    "sparql = SPARQLWrapper(myEndpoint)"
   ]
  },
  {
   "cell_type": "code",
   "execution_count": 14,
   "metadata": {},
   "outputs": [
    {
     "name": "stdout",
     "output_type": "stream",
     "text": [
      "http://example/dota2/Bristleback\n",
      "http://example/dota2/Axe\n",
      "http://example/dota2/Juggernaut\n",
      "http://example/dota2/Lina\n",
      "http://example/dota2/Lion\n",
      "http://example/dota2/PhantomLancer\n",
      "http://example/dota2/SandKing\n",
      "http://example/dota2/WindRanger\n"
     ]
    }
   ],
   "source": [
    "# Query 1 - Specify which RDFS rule are you testing: \n",
    "\n",
    "# Check example of Task 1 on how to query remote SPARQL endpoints\n",
    "\n",
    "sparql.setQuery(\"\"\"\n",
    "    PREFIX rdfs: <http://www.w3.org/2000/01/rdf-schema#>\n",
    "    PREFIX dota2: <http://example/dota2/>\n",
    "    PREFIX rdf: <http://www.w3.org/1999/02/22-rdf-syntax-ns#>\n",
    "    SELECT DISTINCT ?hero WHERE{\n",
    "        ?hero a dota2:Hero.\n",
    "    } LIMIT 100\n",
    "\"\"\")\n",
    "# rdfs9\n",
    "\n",
    "sparql.setReturnFormat(JSON)\n",
    "results = sparql.query().convert()\n",
    "for result in results[\"results\"][\"bindings\"]:\n",
    "    print(result[\"hero\"][\"value\"])\n",
    "    \n",
    "\n"
   ]
  },
  {
   "cell_type": "code",
   "execution_count": 15,
   "metadata": {},
   "outputs": [
    {
     "name": "stdout",
     "output_type": "stream",
     "text": [
      "http://example/dota2/Bristleback\n",
      "http://example/dota2/Lina\n",
      "http://example/dota2/Lion\n",
      "http://example/dota2/WindRanger\n"
     ]
    }
   ],
   "source": [
    "# Query 2 - Specify which RDFS rule are you testing: \n",
    "\n",
    "# Check example of Task 1 on how to query remote SPARQL endpoints\n",
    "\n",
    "sparql.setQuery(\"\"\"\n",
    "    PREFIX rdfs: <http://www.w3.org/2000/01/rdf-schema#>\n",
    "    PREFIX dota2: <http://example/dota2/>\n",
    "    PREFIX rdf: <http://www.w3.org/1999/02/22-rdf-syntax-ns#>\n",
    "    SELECT DISTINCT ?hero WHERE{\n",
    "        ?hero a dota2:BannedHero.\n",
    "    } LIMIT 100\n",
    "\"\"\")\n",
    "# rdfs3\n",
    "\n",
    "sparql.setReturnFormat(JSON)\n",
    "results = sparql.query().convert()\n",
    "for result in results[\"results\"][\"bindings\"]:\n",
    "    print(result[\"hero\"][\"value\"])\n",
    "    \n",
    "\n"
   ]
  },
  {
   "cell_type": "markdown",
   "metadata": {},
   "source": [
    "## Submitting the assignment\n",
    "\n",
    "Please submit this notebook (.ipynb) once you're finished with the assignment. It is not necessary to submit the created turtle files."
   ]
  }
 ],
 "metadata": {
  "kernelspec": {
   "display_name": "Python 3 (ipykernel)",
   "language": "python",
   "name": "python3"
  },
  "language_info": {
   "codemirror_mode": {
    "name": "ipython",
    "version": 3
   },
   "file_extension": ".py",
   "mimetype": "text/x-python",
   "name": "python",
   "nbconvert_exporter": "python",
   "pygments_lexer": "ipython3",
   "version": "3.12.7"
  }
 },
 "nbformat": 4,
 "nbformat_minor": 4
}
