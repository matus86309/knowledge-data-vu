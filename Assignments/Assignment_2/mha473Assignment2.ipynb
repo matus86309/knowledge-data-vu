{
 "cells": [
  {
   "cell_type": "markdown",
   "metadata": {},
   "source": [
    "# Knowledge and Data: Practical Assignment 2\n",
    "## Manipulate local and external RDF Knowledge Graphs "
   ]
  },
  {
   "cell_type": "markdown",
   "metadata": {},
   "source": [
    "YOUR NAME: Matúš Hába\n",
    "\n",
    "YOUR VUNetID: mha473\n",
    "\n",
    "*(If you do not provide your name and VUNetID we will not accept your submission).*"
   ]
  },
  {
   "cell_type": "markdown",
   "metadata": {},
   "source": [
    "### Learning objectives"
   ]
  },
  {
   "cell_type": "markdown",
   "metadata": {},
   "source": [
    "At the end of this exercise you should be able to perform some simple manipulations of RDF Data using the rdflib library. You should be able to: \n",
    "\n",
    "1. Add and retrieve information from a local RDF database\n",
    "2. Represent RDF data in other formats, such as the .dot format for graph visualisation\n",
    "3. Retrieve information from an RDF database created from Web Data\n",
    "4. Query information from the Web with SPARQL"
   ]
  },
  {
   "cell_type": "markdown",
   "metadata": {},
   "source": [
    "### Practicalities"
   ]
  },
  {
   "cell_type": "markdown",
   "metadata": {},
   "source": [
    "Follow this Notebook step-by-step. \n",
    "\n",
    "Of course, you can do the exercises in any Programming Editor of your liking. \n",
    "But you do not have to. Feel free to simply write code in the Notebook. When \n",
    "everything is filled in and works, save the Notebook and submit it \n",
    "as a Jupyter Notebook, i.e. with an .ipynb extension. Please use as name of the \n",
    "Notebook your studentID+Assignment2.ipynb.  \n",
    "\n",
    "We will not evaluate the programming style of your solutions. Yet we do look whether your solutions suggests an understanding, and whether they yield the correct output.\n",
    "\n",
    "Note that all notebooks will automatically be checked for plagiarism: while similar answers can be expected, it is not allowed to directly copy the solutions from fellow students or TAs, or from the examples discussed during the lectures. Similarly, sharing your solutions with your peers is not allowed."
   ]
  },
  {
   "cell_type": "markdown",
   "metadata": {},
   "source": [
    "# A. Tasks related to local RDF Knowledge Graphs"
   ]
  },
  {
   "cell_type": "markdown",
   "metadata": {},
   "source": [
    "This first cell will open a file 'example-from-slide.ttl' using the rdflib library. The first Practical Assignment should have taught you that manipulating symbols as strings is a major pain. \n",
    "\n",
    "Programming libraries, such as **rdflib**, help you with this mess once and for all, by parsing the files, creating appropriate datastructures (Graph()) and providing useful functions (such as serialize(), save() and much more). \n",
    "Check the website of rdflib http://rdflib.readthedocs.io/: this library does most of the hard work for you."
   ]
  },
  {
   "cell_type": "code",
   "execution_count": 1,
   "metadata": {},
   "outputs": [
    {
     "name": "stdout",
     "output_type": "stream",
     "text": [
      "Defaulting to user installation because normal site-packages is not writeable\n",
      "Requirement already satisfied: rdflib in c:\\users\\matus\\appdata\\roaming\\python\\python312\\site-packages (7.0.0)\n",
      "Requirement already satisfied: isodate<0.7.0,>=0.6.0 in c:\\users\\matus\\appdata\\roaming\\python\\python312\\site-packages (from rdflib) (0.6.1)\n",
      "Requirement already satisfied: pyparsing<4,>=2.1.0 in c:\\users\\matus\\appdata\\roaming\\python\\python312\\site-packages (from rdflib) (3.1.4)\n",
      "Requirement already satisfied: six in c:\\users\\matus\\appdata\\roaming\\python\\python312\\site-packages (from isodate<0.7.0,>=0.6.0->rdflib) (1.16.0)\n",
      "Note: you may need to restart the kernel to use updated packages.\n"
     ]
    },
    {
     "name": "stderr",
     "output_type": "stream",
     "text": [
      "\n",
      "[notice] A new release of pip is available: 24.1.1 -> 24.2\n",
      "[notice] To update, run: python.exe -m pip install --upgrade pip\n"
     ]
    }
   ],
   "source": [
    "# Before starting with the tasks of this assignment, do not forget to install **rdflib** so we can start using it. \n",
    "%pip install rdflib"
   ]
  },
  {
   "cell_type": "code",
   "execution_count": 2,
   "metadata": {},
   "outputs": [],
   "source": [
    "from rdflib import Graph, RDF, Namespace, Literal, URIRef\n",
    "\n",
    "g = Graph()\n",
    "\n",
    "EX = Namespace('http://example.com/kad0/')\n",
    "g.bind('ex',EX)\n",
    "\n",
    "def serialize_graph():\n",
    "    # g.serialize() returns a string\n",
    "    print(g.serialize(format='turtle'))\n",
    "\n",
    "def save_graph(filename):\n",
    "    with open(filename, 'w') as f:\n",
    "        g.serialize(f, format='nt')\n",
    "        \n",
    "def load_graph(filename):\n",
    "    with open(filename, 'r') as f:\n",
    "        g.parse(f, format='turtle')   "
   ]
  },
  {
   "cell_type": "markdown",
   "metadata": {},
   "source": [
    "The file 'example-from-slides.ttl' formalises the knowledge base from the slides from Module 1, and a bit more. \n",
    "\n",
    "Here is how it looks when you load it into your program and serialise it with rdflib in turtle. "
   ]
  },
  {
   "cell_type": "code",
   "execution_count": 3,
   "metadata": {},
   "outputs": [
    {
     "name": "stdout",
     "output_type": "stream",
     "text": [
      "@prefix ex1: <http://example.com/kad/> .\n",
      "@prefix rdfs: <http://www.w3.org/2000/01/rdf-schema#> .\n",
      "\n",
      "ex1:Germany a ex1:EuropeanCountry .\n",
      "\n",
      "ex1:Netherlands a ex1:Country ;\n",
      "    ex1:hasCapital ex1:Amsterdam ;\n",
      "    ex1:hasName \"The Netherlands\" ;\n",
      "    ex1:neighbours ex1:Belgium .\n",
      "\n",
      "ex1:hasCapital rdfs:range ex1:Capital ;\n",
      "    rdfs:subPropertyOf ex1:containsCity .\n",
      "\n",
      "ex1:Amsterdam a ex1:Capital .\n",
      "\n",
      "ex1:Belgium a ex1:Country .\n",
      "\n",
      "ex1:EuropeanCountry rdfs:subClassOf ex1:Country .\n",
      "\n",
      "ex1:containsCity rdfs:domain ex1:Country ;\n",
      "    rdfs:range ex1:City .\n",
      "\n",
      "ex1:Capital rdfs:subClassOf ex1:City .\n",
      "\n",
      "\n"
     ]
    }
   ],
   "source": [
    "load_graph('example-from-slides.ttl')\n",
    "serialize_graph()"
   ]
  },
  {
   "cell_type": "markdown",
   "metadata": {},
   "source": [
    "Now, we can manipulate the graph very easily, e.g. like in the following very simple function, which returns the predicate(s) that relate a subject to a literal object: "
   ]
  },
  {
   "cell_type": "code",
   "execution_count": 4,
   "metadata": {
    "scrolled": true
   },
   "outputs": [
    {
     "name": "stdout",
     "output_type": "stream",
     "text": [
      "http://example.com/kad/hasName\n"
     ]
    }
   ],
   "source": [
    "for s,p,o in g:\n",
    "    if type(o) is Literal:\n",
    "        print(p)"
   ]
  },
  {
   "cell_type": "markdown",
   "metadata": {},
   "source": [
    "### - Task 1: (10 Points) Add information to an RDF graph"
   ]
  },
  {
   "cell_type": "markdown",
   "metadata": {},
   "source": [
    "Add triples to the knowledge graph. Make sure that they have the right namespaces. \n",
    "\n",
    "Similarily to the triples already present in the file 'example-from-slides.ttl':\n",
    "- add at least three new countries with their name and capital \n",
    "- add at least one triple with the `neighbour` predicate\n",
    "\n",
    "Check: http://rdflib.readthedocs.io/en/stable/intro_to_creating_rdf.html\n",
    "\n",
    "Remember that ```a``` is Turtle shorthand for ```rdf:type```."
   ]
  },
  {
   "cell_type": "code",
   "execution_count": 5,
   "metadata": {},
   "outputs": [
    {
     "name": "stdout",
     "output_type": "stream",
     "text": [
      "@prefix ex1: <http://example.com/kad/> .\n",
      "@prefix rdfs: <http://www.w3.org/2000/01/rdf-schema#> .\n",
      "\n",
      "ex1:Germany a ex1:EuropeanCountry .\n",
      "\n",
      "ex1:Netherlands a ex1:Country ;\n",
      "    ex1:hasCapital ex1:Amsterdam ;\n",
      "    ex1:hasName \"The Netherlands\" ;\n",
      "    ex1:neighbours ex1:Belgium .\n",
      "\n",
      "ex1:hasCapital rdfs:range ex1:Capital ;\n",
      "    rdfs:subPropertyOf ex1:containsCity .\n",
      "\n",
      "ex1:Amsterdam a ex1:Capital .\n",
      "\n",
      "ex1:Belgium a ex1:Country .\n",
      "\n",
      "ex1:EuropeanCountry rdfs:subClassOf ex1:Country .\n",
      "\n",
      "ex1:containsCity rdfs:domain ex1:Country ;\n",
      "    rdfs:range ex1:City .\n",
      "\n",
      "ex1:Capital rdfs:subClassOf ex1:City .\n",
      "\n",
      "ex1:CzechRepublic a ex1:Country ;\n",
      "    ex1:hasCapital ex1:Prague ;\n",
      "    ex1:hasName \"Česko\" ;\n",
      "    ex1:neighbours ex1:Poland,\n",
      "        ex1:Slovakia .\n",
      "\n",
      "ex1:Poland a ex1:Country ;\n",
      "    ex1:hasCapital ex1:Warsaw ;\n",
      "    ex1:hasName \"Polska\" ;\n",
      "    ex1:neighbours ex1:CzechRepublic,\n",
      "        ex1:Slovakia .\n",
      "\n",
      "ex1:Slovakia a ex1:Country ;\n",
      "    ex1:hasCapital ex1:Bratislava ;\n",
      "    ex1:hasName \"Slovensko\" ;\n",
      "    ex1:neighbours ex1:CzechRepublic,\n",
      "        ex1:Poland .\n",
      "\n",
      "\n"
     ]
    }
   ],
   "source": [
    "ex = Namespace(\"http://example.com/kad/\")\n",
    "owl = Namespace(\"http://www.w3.org/2002/07/owl#\")\n",
    "rdf = Namespace(\"http://www.w3.org/1999/02/22-rdf-syntax-ns#\")\n",
    "rdfs = Namespace(\"http://www.w3.org/2000/01/rdf-schema#\")\n",
    "\n",
    "\n",
    "# add triples here to the graph 'g' (do not forget the namespaces).\n",
    "triples = [\n",
    "    (\"Slovakia\", \"a\", \"Country\"),\n",
    "    (\"Slovakia\", \"hasCapital\", \"Bratislava\"),\n",
    "    (\"Slovakia\", \"hasName\", Literal(\"Slovensko\")),\n",
    "    (\"Slovakia\", \"neighbours\", \"CzechRepublic\"),\n",
    "    (\"Slovakia\", \"neighbours\", \"Poland\"),\n",
    "\n",
    "    \n",
    "    (\"CzechRepublic\", \"a\", \"Country\"),\n",
    "    (\"CzechRepublic\", \"hasCapital\", \"Prague\"),\n",
    "    (\"CzechRepublic\", \"hasName\", Literal(\"Česko\")),\n",
    "    (\"CzechRepublic\", \"neighbours\", \"Slovakia\"),\n",
    "    (\"CzechRepublic\", \"neighbours\", \"Poland\"),\n",
    "    \n",
    "    (\"Poland\", \"a\", \"Country\"),\n",
    "    (\"Poland\", \"hasCapital\", \"Warsaw\"),\n",
    "    (\"Poland\", \"hasName\", Literal(\"Polska\")),\n",
    "    (\"Poland\", \"neighbours\", \"CzechRepublic\"),\n",
    "    (\"Poland\", \"neighbours\", \"Slovakia\"),\n",
    "]\n",
    "\n",
    "for s, p, o in triples: \n",
    "    g.add((URIRef(ex+s), URIRef(ex+p if p != \"a\" else rdf+\"type\"), URIRef(ex+o) if type(o) is not Literal else o))\n",
    "\n",
    "serialize_graph()"
   ]
  },
  {
   "cell_type": "markdown",
   "metadata": {},
   "source": [
    "*After you ran the previous code (adding triples) the next cells will be executed on your extended graph. That is ok.*"
   ]
  },
  {
   "cell_type": "markdown",
   "metadata": {},
   "source": [
    "### - Task 2a: (10 Points) Get unstructured information from an RDF graph (all Literals)"
   ]
  },
  {
   "cell_type": "markdown",
   "metadata": {},
   "source": [
    "Use the functions available in the RDFLib library. Write a small function to print all Literals. \n",
    "\n",
    "Hint: there is a function in rdflib to test the type of an object (check previous examples in this notebook)"
   ]
  },
  {
   "cell_type": "code",
   "execution_count": 6,
   "metadata": {},
   "outputs": [],
   "source": [
    "def print_literals(graph: Graph):\n",
    "    for _,_,o in graph:\n",
    "        if type(o) is Literal:\n",
    "            print(o) "
   ]
  },
  {
   "cell_type": "markdown",
   "metadata": {},
   "source": [
    "### - Task 2b: (10 Points) Get structured information from an RDF graph (all unique Predicates)"
   ]
  },
  {
   "cell_type": "markdown",
   "metadata": {},
   "source": [
    "Please provide another function that gives a **unique** list of the predicates, ordered by occurrence (most occurring first). Print the number of occurences next to the predicate. The answer will look similar to this: \n",
    "<br/>7: http://www.w3.org/1999/02/22-rdf-syntax-ns#type\n",
    "<br/>4: http://example.com/kad/hasName\n",
    "<br/>4: http://example.com/kad/hasCapital\n",
    "<br/>2: http://www.w3.org/2000/01/rdf-schema#subClassOf\n",
    "<br/>2: http://www.w3.org/2000/01/rdf-schema#range\n",
    "<br/>2: http://example.com/kad/neighbours\n",
    "<br/>1: http://www.w3.org/2000/01/rdf-schema#subPropertyOf\n",
    "<br/>1: http://www.w3.org/2000/01/rdf-schema#domain"
   ]
  },
  {
   "cell_type": "code",
   "execution_count": 7,
   "metadata": {},
   "outputs": [
    {
     "name": "stdout",
     "output_type": "stream",
     "text": [
      "7: http://example.com/kad/neighbours\n",
      "7: http://www.w3.org/1999/02/22-rdf-syntax-ns#type\n",
      "4: http://example.com/kad/hasCapital\n",
      "4: http://example.com/kad/hasName\n",
      "2: http://www.w3.org/2000/01/rdf-schema#range\n",
      "2: http://www.w3.org/2000/01/rdf-schema#subClassOf\n",
      "1: http://www.w3.org/2000/01/rdf-schema#subPropertyOf\n",
      "1: http://www.w3.org/2000/01/rdf-schema#domain\n"
     ]
    }
   ],
   "source": [
    "def predicate_occurence(graph):\n",
    "    predicates = {}\n",
    "    for _,p,_ in graph:\n",
    "        predicates[p] = predicates.get(p, 0) + 1\n",
    "        \n",
    "    predicatesRanked = [*predicates.items()]\n",
    "    predicatesRanked.sort(key=lambda a: a[1], reverse=True)\n",
    "    for uri, occ in predicatesRanked:\n",
    "        print(f\"{occ}: {uri}\")\n",
    "predicate_occurence(g)"
   ]
  },
  {
   "cell_type": "markdown",
   "metadata": {},
   "source": [
    "# B. Tasks related to Graph visualisations "
   ]
  },
  {
   "cell_type": "markdown",
   "metadata": {},
   "source": [
    "### - Task 3a: (20 Points) From RDF to .dot \n"
   ]
  },
  {
   "cell_type": "markdown",
   "metadata": {},
   "source": [
    "In the lecture, we have seen two ways of writing a knowledge graph (simple n-triples, and simple turtle). Let us consider a 3rd syntax, this time a syntax that is useful for visualisation. One standard for visualising graphs is the .dot format.\n",
    "\n",
    "Print the knowledge graph in .dot file format. Check https://graphviz.gitlab.io/documentation/ and https://graphviz.readthedocs.io/en/stable/ for the documentation. You will only need very little of this information, and the most relevant information can be found in the examples that are given. \n",
    "\n",
    "<br>Basically, an RDF graph in .dot format starts with `digraph G {` and then a list of links of the following form:\n",
    "<br>`s -> o [label=\"p\"]`\n",
    "<br>for every triple in the graph (separated by `;`). Do not forget to end with a closing bracket. `}`\n",
    "\n",
    "An example is \n",
    "     \n",
    "     digraph G { s1 -> o1 [label=\"p1\"] ; s2 -> o2 [label=\"p2\"] } \n",
    "     \n",
    "for an RDF graph [(s1 p1 o1), (s2 p2 o2)]"
   ]
  },
  {
   "cell_type": "code",
   "execution_count": 8,
   "metadata": {},
   "outputs": [
    {
     "name": "stdout",
     "output_type": "stream",
     "text": [
      "Defaulting to user installation because normal site-packages is not writeable\n",
      "Requirement already satisfied: graphviz in c:\\users\\matus\\appdata\\roaming\\python\\python312\\site-packages (0.20.3)\n",
      "Note: you may need to restart the kernel to use updated packages.\n"
     ]
    },
    {
     "name": "stderr",
     "output_type": "stream",
     "text": [
      "\n",
      "[notice] A new release of pip is available: 24.1.1 -> 24.2\n",
      "[notice] To update, run: python.exe -m pip install --upgrade pip\n"
     ]
    }
   ],
   "source": [
    "# install and import the graphviz library\n",
    "%pip install graphviz\n",
    "import graphviz\n"
   ]
  },
  {
   "cell_type": "markdown",
   "metadata": {},
   "source": [
    "First, create an auxiliary function which strips the namespaces from URIs. This is necessary to make the node names readable when visualizing the .dot graph. Make sure that literals are enclosed by quotation marks. Hint: use `'\"...\"'` or `\"\\\"...\\\"\"` to insert quotation marks in Python strings."
   ]
  },
  {
   "cell_type": "code",
   "execution_count": 9,
   "metadata": {},
   "outputs": [],
   "source": [
    "def strip(e):\n",
    "    if type(e) is Literal:\n",
    "        return f'\"{str(e).split(\"#\")[-1] if str(e).find(\"#\") > -1 else str(e).split(\"/\")[-1]}\"'\n",
    "    return str(e).split(\"#\")[-1] if str(e).find(\"#\") > -1 else str(e).split(\"/\")[-1]"
   ]
  },
  {
   "cell_type": "markdown",
   "metadata": {},
   "source": [
    "Next, convert your graph to the .dot format."
   ]
  },
  {
   "cell_type": "code",
   "execution_count": 10,
   "metadata": {},
   "outputs": [],
   "source": [
    "dot = graphviz.Digraph(strict=True, graph_attr={\"dpi\":\"50\"})  # adjust dpi to scale graph\n",
    "\n",
    "for s,p,o in [(strip(value) for value in triple) for triple in g]:\n",
    "    dot.node(s)\n",
    "    dot.node(o)\n",
    "    dot.edge(s, o, p)"
   ]
  },
  {
   "cell_type": "markdown",
   "metadata": {},
   "source": [
    "View the end result as .dot syntax and as a graph:"
   ]
  },
  {
   "cell_type": "code",
   "execution_count": 11,
   "metadata": {},
   "outputs": [
    {
     "name": "stdout",
     "output_type": "stream",
     "text": [
      "strict digraph {\n",
      "\tgraph [dpi=50]\n",
      "\tPoland\n",
      "\tCzechRepublic\n",
      "\tPoland -> CzechRepublic [label=neighbours]\n",
      "\tSlovakia\n",
      "\tCzechRepublic\n",
      "\tSlovakia -> CzechRepublic [label=neighbours]\n",
      "\tSlovakia\n",
      "\tBratislava\n",
      "\tSlovakia -> Bratislava [label=hasCapital]\n",
      "\tSlovakia\n",
      "\tCountry\n",
      "\tSlovakia -> Country [label=type]\n",
      "\tSlovakia\n",
      "\tPoland\n",
      "\tSlovakia -> Poland [label=neighbours]\n",
      "\thasCapital\n",
      "\tcontainsCity\n",
      "\thasCapital -> containsCity [label=subPropertyOf]\n",
      "\tAmsterdam\n",
      "\tCapital\n",
      "\tAmsterdam -> Capital [label=type]\n",
      "\tPoland\n",
      "\tCountry\n",
      "\tPoland -> Country [label=type]\n",
      "\tBelgium\n",
      "\tCountry\n",
      "\tBelgium -> Country [label=type]\n",
      "\tGermany\n",
      "\tEuropeanCountry\n",
      "\tGermany -> EuropeanCountry [label=type]\n",
      "\thasCapital\n",
      "\tCapital\n",
      "\thasCapital -> Capital [label=range]\n",
      "\tCzechRepublic\n",
      "\tSlovakia\n",
      "\tCzechRepublic -> Slovakia [label=neighbours]\n",
      "\tcontainsCity\n",
      "\tCountry\n",
      "\tcontainsCity -> Country [label=domain]\n",
      "\tCzechRepublic\n",
      "\tPrague\n",
      "\tCzechRepublic -> Prague [label=hasCapital]\n",
      "\tPoland\n",
      "\tWarsaw\n",
      "\tPoland -> Warsaw [label=hasCapital]\n",
      "\tEuropeanCountry\n",
      "\tCountry\n",
      "\tEuropeanCountry -> Country [label=subClassOf]\n",
      "\tCzechRepublic\n",
      "\t\"\\\"Česko\\\"\"\n",
      "\tCzechRepublic -> \"\\\"Česko\\\"\" [label=hasName]\n",
      "\tCzechRepublic\n",
      "\tPoland\n",
      "\tCzechRepublic -> Poland [label=neighbours]\n",
      "\tPoland\n",
      "\tSlovakia\n",
      "\tPoland -> Slovakia [label=neighbours]\n",
      "\tNetherlands\n",
      "\tCountry\n",
      "\tNetherlands -> Country [label=type]\n",
      "\tcontainsCity\n",
      "\tCity\n",
      "\tcontainsCity -> City [label=range]\n",
      "\tNetherlands\n",
      "\tBelgium\n",
      "\tNetherlands -> Belgium [label=neighbours]\n",
      "\tCapital\n",
      "\tCity\n",
      "\tCapital -> City [label=subClassOf]\n",
      "\tNetherlands\n",
      "\tAmsterdam\n",
      "\tNetherlands -> Amsterdam [label=hasCapital]\n",
      "\tPoland\n",
      "\t\"\\\"Polska\\\"\"\n",
      "\tPoland -> \"\\\"Polska\\\"\" [label=hasName]\n",
      "\tNetherlands\n",
      "\t\"\\\"The Netherlands\\\"\"\n",
      "\tNetherlands -> \"\\\"The Netherlands\\\"\" [label=hasName]\n",
      "\tSlovakia\n",
      "\t\"\\\"Slovensko\\\"\"\n",
      "\tSlovakia -> \"\\\"Slovensko\\\"\" [label=hasName]\n",
      "\tCzechRepublic\n",
      "\tCountry\n",
      "\tCzechRepublic -> Country [label=type]\n",
      "}\n",
      "\n"
     ]
    }
   ],
   "source": [
    "print(dot.source)\n",
    "# display.display_svg(dot)  # paste the source at www.webgraphviz.com if this does not produce anything "
   ]
  },
  {
   "cell_type": "markdown",
   "metadata": {},
   "source": [
    "### - Task 3b: (10 Points) From RDF to .dot with \"semantic information\""
   ]
  },
  {
   "cell_type": "markdown",
   "metadata": {},
   "source": [
    "There is a conceptual distinction between properties, instances and classes (sets of instances). A simple way of checking is the following\n",
    "\n",
    "1. in a triple (s a o), with predicate a (which is a special abbreviation for the predicate rdf:type), the s is an Instance, and o is a Class. \n",
    "2. in a triple (s rdfs:subClassOf o) both s and o are Classes. \n",
    "3. in a triple (p rdfs:domain o) p is a Property and o is a Class. \n",
    "4. in a triple (p rdfs:range o)  p is a Property and o is a Class. \n",
    "\n",
    "Update the .dot representation for an RDF graph that:\n",
    "\n",
    "- renders all predicates that are defined in the RDF namespace as dotted lines,\n",
    "- renders all classes as rectangles,\n",
    "- renders all literals as plain text (no enclosure), and\n",
    "- renders all entities with the color blue. \n",
    "\n",
    "Check how your graph looks once finished. Hint: you can use the `color`, `shape` and `style` attributes in the node and edge function (see the documentation)."
   ]
  },
  {
   "cell_type": "code",
   "execution_count": 12,
   "metadata": {},
   "outputs": [],
   "source": [
    "def strip(e):\n",
    "    return str(e).split(\"/\")[-1]"
   ]
  },
  {
   "cell_type": "code",
   "execution_count": 13,
   "metadata": {},
   "outputs": [],
   "source": [
    "dot2 = graphviz.Digraph(strict=True, graph_attr={\"dpi\":\"50\"})\n",
    "for s,p,o in [(strip(value) for value in triple) for triple in g]:\n",
    "    sShape = None\n",
    "    oShape = None\n",
    "    sColor = None\n",
    "\n",
    "    p = p.split(\"#\")\n",
    "    if len(p) > 1: \n",
    "        if p[1] == \"type\":\n",
    "            sColor = \"blue\"\n",
    "        if p[1] == \"subClassOf\":\n",
    "            sShape = \"rectangle\"\n",
    "        if p[1] in [\"type\", \"rdf-schema#subClassOf\", \"domain\", \"range\"] :\n",
    "            oShape = \"rectangle\"\n",
    "        dot2.edge(s, o, p[1], style=\"dotted\" if p[0] == \"22-rdf-syntax-ns\" else None)\n",
    "\n",
    "    else:\n",
    "        dot2.edge(s, o, p[0])\n",
    "\n",
    "    dot2.node(s, color=sColor, shape=sShape)\n",
    "    dot2.node(o, shape=oShape)"
   ]
  },
  {
   "cell_type": "code",
   "execution_count": 14,
   "metadata": {},
   "outputs": [
    {
     "name": "stdout",
     "output_type": "stream",
     "text": [
      "strict digraph {\n",
      "\tgraph [dpi=50]\n",
      "\tPoland -> CzechRepublic [label=neighbours]\n",
      "\tPoland\n",
      "\tCzechRepublic\n",
      "\tSlovakia -> CzechRepublic [label=neighbours]\n",
      "\tSlovakia\n",
      "\tCzechRepublic\n",
      "\tSlovakia -> Bratislava [label=hasCapital]\n",
      "\tSlovakia\n",
      "\tBratislava\n",
      "\tSlovakia -> Country [label=type style=dotted]\n",
      "\tSlovakia [color=blue]\n",
      "\tCountry [shape=rectangle]\n",
      "\tSlovakia -> Poland [label=neighbours]\n",
      "\tSlovakia\n",
      "\tPoland\n",
      "\thasCapital -> containsCity [label=subPropertyOf]\n",
      "\thasCapital\n",
      "\tcontainsCity\n",
      "\tAmsterdam -> Capital [label=type style=dotted]\n",
      "\tAmsterdam [color=blue]\n",
      "\tCapital [shape=rectangle]\n",
      "\tPoland -> Country [label=type style=dotted]\n",
      "\tPoland [color=blue]\n",
      "\tCountry [shape=rectangle]\n",
      "\tBelgium -> Country [label=type style=dotted]\n",
      "\tBelgium [color=blue]\n",
      "\tCountry [shape=rectangle]\n",
      "\tGermany -> EuropeanCountry [label=type style=dotted]\n",
      "\tGermany [color=blue]\n",
      "\tEuropeanCountry [shape=rectangle]\n",
      "\thasCapital -> Capital [label=range]\n",
      "\thasCapital\n",
      "\tCapital [shape=rectangle]\n",
      "\tCzechRepublic -> Slovakia [label=neighbours]\n",
      "\tCzechRepublic\n",
      "\tSlovakia\n",
      "\tcontainsCity -> Country [label=domain]\n",
      "\tcontainsCity\n",
      "\tCountry [shape=rectangle]\n",
      "\tCzechRepublic -> Prague [label=hasCapital]\n",
      "\tCzechRepublic\n",
      "\tPrague\n",
      "\tPoland -> Warsaw [label=hasCapital]\n",
      "\tPoland\n",
      "\tWarsaw\n",
      "\tEuropeanCountry -> Country [label=subClassOf]\n",
      "\tEuropeanCountry [shape=rectangle]\n",
      "\tCountry\n",
      "\tCzechRepublic -> \"Česko\" [label=hasName]\n",
      "\tCzechRepublic\n",
      "\t\"Česko\"\n",
      "\tCzechRepublic -> Poland [label=neighbours]\n",
      "\tCzechRepublic\n",
      "\tPoland\n",
      "\tPoland -> Slovakia [label=neighbours]\n",
      "\tPoland\n",
      "\tSlovakia\n",
      "\tNetherlands -> Country [label=type style=dotted]\n",
      "\tNetherlands [color=blue]\n",
      "\tCountry [shape=rectangle]\n",
      "\tcontainsCity -> City [label=range]\n",
      "\tcontainsCity\n",
      "\tCity [shape=rectangle]\n",
      "\tNetherlands -> Belgium [label=neighbours]\n",
      "\tNetherlands\n",
      "\tBelgium\n",
      "\tCapital -> City [label=subClassOf]\n",
      "\tCapital [shape=rectangle]\n",
      "\tCity\n",
      "\tNetherlands -> Amsterdam [label=hasCapital]\n",
      "\tNetherlands\n",
      "\tAmsterdam\n",
      "\tPoland -> Polska [label=hasName]\n",
      "\tPoland\n",
      "\tPolska\n",
      "\tNetherlands -> \"The Netherlands\" [label=hasName]\n",
      "\tNetherlands\n",
      "\t\"The Netherlands\"\n",
      "\tSlovakia -> Slovensko [label=hasName]\n",
      "\tSlovakia\n",
      "\tSlovensko\n",
      "\tCzechRepublic -> Country [label=type style=dotted]\n",
      "\tCzechRepublic [color=blue]\n",
      "\tCountry [shape=rectangle]\n",
      "}\n",
      "\n"
     ]
    }
   ],
   "source": [
    "print(dot2.source)"
   ]
  },
  {
   "cell_type": "markdown",
   "metadata": {},
   "source": [
    "### - Task 4: (10 Points) Deriving implicit knowledge (a bit of schema)\n",
    "\n",
    "We will look into Schema information in the latter modules, but let us try already to find some implicit information in a first bit of inferencing: whenever there are two statements (s rdf:type o) and (o rdfs:subClassOf o2) we can derive (and later prove) that (s rdf:type o2). \n",
    "\n",
    "Write a procedure that adds all implied triples to our knowledge graph, and which prints each implied triple."
   ]
  },
  {
   "cell_type": "code",
   "execution_count": 15,
   "metadata": {},
   "outputs": [
    {
     "name": "stdout",
     "output_type": "stream",
     "text": [
      "('Amsterdam', 'type', 'City')\n",
      "('Germany', 'type', 'Country')\n"
     ]
    }
   ],
   "source": [
    "def strip(e):\n",
    "    return str(e).split(\"#\")[-1] if str(e).find(\"#\") > -1 else str(e).split(\"/\")[-1]\n",
    "\n",
    "implied_triples = [\n",
    "    (strip(s), strip(p), c1ass) for s, p, o in g if strip(p) == \"type\"\n",
    "    for subC1ass, c1ass in [\n",
    "        (strip(s), strip(o)) for s, p, o in g if strip(p) == \"subClassOf\"\n",
    "    ] if strip(o) == subC1ass\n",
    "]\n",
    "\n",
    "print(\"\\n\".join(str(t) for t in implied_triples))\n",
    "\n",
    "for s, p, o in implied_triples:\n",
    "    dot2.edge(s, o, p)\n",
    "    # It was not specified whether these edges should have the styles descibed above, \n",
    "    # so I left them with default styles \n",
    "    # By removing this condition: if strip(p) == \"type\" the function will ouput also other implied triples implied by subClassOf, in our example a triple ('hasCapital', 'range', 'City')\n"
   ]
  },
  {
   "cell_type": "markdown",
   "metadata": {},
   "source": [
    "# C. Tasks related to local copies of external RDF Datasets using SPARQL"
   ]
  },
  {
   "cell_type": "markdown",
   "metadata": {},
   "source": [
    "Until now, we have manipulated local knowledge graphs, but as we claimed in the lectures, the advantage of knowledge graphs is that they can easily be linked with other datasets on the Web. \n",
    "\n",
    "In the remaining 3 tasks, we will manipulate data from the Web, and ask complex queries over this web data. \n",
    "\n",
    "In the first task, we will access web data, make a local copy of it, and then query it. In the other two tasks, we will query live data directly from web Knowledge Graphs (in this case, the SPARQL endpoint of DBPedia). "
   ]
  },
  {
   "cell_type": "markdown",
   "metadata": {},
   "source": [
    "### - Task 5: (10 Points) Show and manipulate data about RDF resources on the Web "
   ]
  },
  {
   "cell_type": "markdown",
   "metadata": {},
   "source": [
    "With rdflib we can easily load a local graph, but we can just as well retrieve a graph from the Web. Here, we will do so using the *requests* library, which allows us to fire a request to any server and/or SPARQL endpoint and to capture the response. The following snippet does so for the resource Netherlands from Dbpedia, by using the 'DESCRIBE' keyword to give us all triples about The Netherlands, and then loads it in a RDFlib Graph object. Note that, in the next assignment, we will learn a more high-level approach that hides most of the raw request details.\n",
    "\n",
    "Should, for some external reason, the code below fail to retrieve the graph from DBpedia, then you can manually load the turtle file `dbpedia_AmsterdamBelgium.ttl` which is located in this directory and which contains the same triples. Only do this as a last resort!"
   ]
  },
  {
   "cell_type": "code",
   "execution_count": 16,
   "metadata": {},
   "outputs": [
    {
     "name": "stdout",
     "output_type": "stream",
     "text": [
      "Defaulting to user installation because normal site-packages is not writeable\n",
      "Requirement already satisfied: requests in c:\\users\\matus\\appdata\\roaming\\python\\python312\\site-packages (2.32.3)\n",
      "Requirement already satisfied: charset-normalizer<4,>=2 in c:\\users\\matus\\appdata\\roaming\\python\\python312\\site-packages (from requests) (3.3.2)\n",
      "Requirement already satisfied: idna<4,>=2.5 in c:\\users\\matus\\appdata\\roaming\\python\\python312\\site-packages (from requests) (3.8)\n",
      "Requirement already satisfied: urllib3<3,>=1.21.1 in c:\\users\\matus\\appdata\\roaming\\python\\python312\\site-packages (from requests) (2.2.2)\n",
      "Requirement already satisfied: certifi>=2017.4.17 in c:\\users\\matus\\appdata\\roaming\\python\\python312\\site-packages (from requests) (2024.8.30)\n",
      "Note: you may need to restart the kernel to use updated packages.\n"
     ]
    },
    {
     "name": "stderr",
     "output_type": "stream",
     "text": [
      "\n",
      "[notice] A new release of pip is available: 24.1.1 -> 24.2\n",
      "[notice] To update, run: python.exe -m pip install --upgrade pip\n"
     ]
    }
   ],
   "source": [
    "# install the library\n",
    "%pip install requests\n"
   ]
  },
  {
   "cell_type": "code",
   "execution_count": 17,
   "metadata": {},
   "outputs": [
    {
     "data": {
      "text/plain": [
       "<Graph identifier=Nca520fcaefed4f4385e14d6fc7f60468 (<class 'rdflib.graph.Graph'>)>"
      ]
     },
     "execution_count": 17,
     "metadata": {},
     "output_type": "execute_result"
    }
   ],
   "source": [
    "import requests\n",
    "\n",
    "endpoint = \"https://dbpedia.org/sparql\"\n",
    "query = 'DESCRIBE <http://dbpedia.org/resource/Netherlands>'\n",
    "\n",
    "payload = {'query':query, 'format':'text/turtle'}\n",
    "response = requests.post(endpoint, data = payload)\n",
    "\n",
    "g = Graph()\n",
    "g.parse(data=response.text, format='ttl')"
   ]
  },
  {
   "cell_type": "markdown",
   "metadata": {},
   "source": [
    "Now do the same for Belgium"
   ]
  },
  {
   "cell_type": "code",
   "execution_count": 18,
   "metadata": {},
   "outputs": [
    {
     "data": {
      "text/plain": [
       "<Graph identifier=Nca520fcaefed4f4385e14d6fc7f60468 (<class 'rdflib.graph.Graph'>)>"
      ]
     },
     "execution_count": 18,
     "metadata": {},
     "output_type": "execute_result"
    }
   ],
   "source": [
    "query = 'DESCRIBE <http://dbpedia.org/resource/Belgium>'\n",
    "\n",
    "payload = {'query':query, 'format':'text/turtle'}\n",
    "response = requests.post(endpoint, data = payload)\n",
    "\n",
    "g.parse(data=response.text, format='ttl')  # calling parse again merges the graphs"
   ]
  },
  {
   "cell_type": "markdown",
   "metadata": {},
   "source": [
    "Let us start by showing diverse bits of information w.r.t  The Netherlands and Belgium in DBPedia. It is very similar to task 1, but now with Web Data. \n",
    "\n",
    "First, query the graph g (now containing the DBPedia information about both countries) and check which motor ways cross both countries."
   ]
  },
  {
   "cell_type": "code",
   "execution_count": 19,
   "metadata": {},
   "outputs": [],
   "source": [
    "qres = g.query(\n",
    "   \"\"\"\n",
    "    PREFIX dbr: <http://dbpedia.org/resource/>\n",
    "    PREFIX dbo: <http://dbpedia.org/ontology/>\n",
    "    SELECT ?s\n",
    "        WHERE {\n",
    "            ?s a dbo:Road ;\n",
    "               dbo:county dbr:Netherlands ;\n",
    "               dbo:county dbr:Belgium .\n",
    "        }\n",
    "        LIMIT 10\n",
    "       \"\"\")\n",
    "\n",
    "for row in qres:\n",
    "    print(\"%s\" % row)"
   ]
  },
  {
   "cell_type": "markdown",
   "metadata": {},
   "source": [
    "Write a query to check whether you can find someone who was born in The Netherlands and died in Belgium? You need to look at the data to know which property you should check for. \n",
    "\n",
    "To get an intuition of what is in the knowledge graph you might want to look at the human readable rendering on : http://dbpedia.org/resource/Netherlands"
   ]
  },
  {
   "cell_type": "code",
   "execution_count": 20,
   "metadata": {
    "scrolled": true
   },
   "outputs": [
    {
     "name": "stdout",
     "output_type": "stream",
     "text": [
      "http://dbpedia.org/resource/Ben_van_der_Voort\n",
      "http://dbpedia.org/resource/Bram_Bart\n",
      "http://dbpedia.org/resource/Petrus_van_Schendel\n",
      "http://dbpedia.org/resource/Maximilian_von_Fürstenberg\n",
      "http://dbpedia.org/resource/Salomon_Zeldenrust\n",
      "http://dbpedia.org/resource/Co_Prins\n",
      "http://dbpedia.org/resource/Cornelius_van_Zierikzee\n",
      "http://dbpedia.org/resource/Theo_Middelkamp\n",
      "http://dbpedia.org/resource/Anne_Vondeling\n",
      "http://dbpedia.org/resource/Anton_Winterink\n"
     ]
    }
   ],
   "source": [
    "# Your code here\n",
    "qres = g.query(\n",
    "   \"\"\"\n",
    "    PREFIX dbr: <http://dbpedia.org/resource/>\n",
    "    PREFIX dbo: <http://dbpedia.org/ontology/>\n",
    "    SELECT ?s\n",
    "        WHERE {\n",
    "               ?s dbo:birthPlace dbr:Netherlands ;\n",
    "               dbo:deathPlace dbr:Belgium .\n",
    "        }\n",
    "        LIMIT 10\n",
    "       \"\"\")\n",
    "\n",
    "for row in qres:\n",
    "    print(\"%s\" % row)"
   ]
  },
  {
   "cell_type": "markdown",
   "metadata": {},
   "source": [
    "### - Task 6: (20 Points) Ask SPARQL against live data using Yasgui\n",
    "\n",
    "Yasgui (https://yasgui.triply.cc) is a nice graphical interface for asking queries.\n",
    "\n",
    "Run a new query against http://dbpedia.org/sparql that does the following:\n",
    "\n",
    "- Find all languages spoken in countries that are not official languages of that country.\n",
    "- The query should return two colums: the country, and the number of languages.\n",
    "- Order the countries by the number of unofficial languages, from high to low.\n",
    "\n",
    "Note that\n",
    "- Countries are assumed to be of type `dbo:Country`\n",
    "- Languages are assumed to be of type `dbo:Language` (and can be linked by many different predicates)\n",
    "- Official languages are linked using predicate `dbo:officialLanguage`\n",
    "- Not all countries have an official language (in which case we return all linked languages)\n",
    "\n",
    "Hint: there is more than one possible solution. See https://www.w3.org/TR/sparql11-query/ for documentation on SPARQL."
   ]
  },
  {
   "cell_type": "code",
   "execution_count": 21,
   "metadata": {},
   "outputs": [
    {
     "data": {
      "text/plain": [
       "'\\nPREFIX dbr: <http://dbpedia.org/resource/>\\nPREFIX dbo: <http://dbpedia.org/ontology/>\\nPREFIX rdf: <http://www.w3.org/1999/02/22-rdf-syntax-ns#>\\nSELECT DISTINCT ?country (COUNT(DISTINCT?language) AS ?numberOfLanguages) WHERE { \\n  ?country a dbo:Country.\\n  ?country dbo:language ?language.\\n  FILTER NOT EXISTS {?country dbo:officialLanguage ?language}\\n} ORDER BY DESC(?numberOfLanguages)\\n'"
      ]
     },
     "execution_count": 21,
     "metadata": {},
     "output_type": "execute_result"
    }
   ],
   "source": [
    "'''\n",
    "PREFIX dbr: <http://dbpedia.org/resource/>\n",
    "PREFIX dbo: <http://dbpedia.org/ontology/>\n",
    "PREFIX rdf: <http://www.w3.org/1999/02/22-rdf-syntax-ns#>\n",
    "SELECT DISTINCT ?country (COUNT(DISTINCT?language) AS ?numberOfLanguages) WHERE { \n",
    "  ?country a dbo:Country.\n",
    "  ?country dbo:language ?language.\n",
    "  FILTER NOT EXISTS {?country dbo:officialLanguage ?language}\n",
    "} ORDER BY DESC(?numberOfLanguages)\n",
    "'''"
   ]
  }
 ],
 "metadata": {
  "kernelspec": {
   "display_name": "Python 3 (ipykernel)",
   "language": "python",
   "name": "python3"
  },
  "language_info": {
   "codemirror_mode": {
    "name": "ipython",
    "version": 3
   },
   "file_extension": ".py",
   "mimetype": "text/x-python",
   "name": "python",
   "nbconvert_exporter": "python",
   "pygments_lexer": "ipython3",
   "version": "3.12.3"
  }
 },
 "nbformat": 4,
 "nbformat_minor": 4
}
